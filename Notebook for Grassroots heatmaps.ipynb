{
 "cells": [
  {
   "cell_type": "markdown",
   "id": "786959d0",
   "metadata": {
    "slideshow": {
     "slide_type": "slide"
    }
   },
   "source": [
    "# How to get the Grassroots data directly to your machine and play with it.\n",
    "\n",
    "\n",
    "###  Studies with plot data:\n",
    "#### [\"https://grassroots.tools/fieldtrial/plots/603e3e9502700f7faf25dfb4\")](https://grassroots.tools/fieldtrial/plots/603e3e9502700f7faf25dfb4).\n",
    "#### [\"https://grassroots.tools/fieldtrial/plots/60955bb402700f084b013da4\")](https://grassroots.tools/fieldtrial/plots/60955bb402700f084b013da4).\n",
    "\n",
    "### What if you want to manipulate the data of a study in your own way?"
   ]
  },
  {
   "cell_type": "code",
   "execution_count": 17,
   "id": "3aa8647f",
   "metadata": {
    "scrolled": true,
    "slideshow": {
     "slide_type": "slide"
    }
   },
   "outputs": [
    {
     "name": "stdout",
     "output_type": "stream",
     "text": [
      "Studyt name:  WGIN Diversity Rothamsted Harvest 2019\n",
      "Description: Wheat variety, N, pesticide interaction trial\n",
      "\n",
      "\n"
     ]
    }
   ],
   "source": [
    "import json        # JSON library. JSON format stores data using pairs of keys and values\n",
    "import requests    # HTTP library\n",
    "\n",
    "server_url = \"http://localhost:2000/grassroots/public_backend\"\n",
    "server_url = \"https://grassroots.tools/public_backend\"\n",
    "\n",
    "#----------------------------------------------------------------------------------\n",
    "#Request to backend server to get a study using unique ID.\n",
    "def get_plot(id):\n",
    "    plot_request = {\n",
    "            \"services\": [{\n",
    "                \"so:name\": \"Search Field Trials\",\n",
    "                \"start_service\": True,\n",
    "                \"parameter_set\": {\n",
    "                    \"level\": \"advanced\",\n",
    "                    \"parameters\": [{\n",
    "                        \"param\": \"ST Id\",\n",
    "                        \"current_value\": id\n",
    "                    }, {\n",
    "                        \"param\": \"Get all Plots for Study\",\n",
    "                        \"current_value\": True\n",
    "                    }, {\n",
    "                        \"param\": \"ST Search Studies\",\n",
    "                        \"current_value\": True\n",
    "                    }]\n",
    "                }\n",
    "            }]\n",
    "        }\n",
    "    res = requests.post(server_url, data=json.dumps(plot_request))\n",
    "    return json.dumps(res.json())\n",
    "#----------------------------------------------------------------------------------\n",
    "\n",
    "json_study   = get_plot(\"603e3e9502700f7faf25dfb4\")   #  Rothamsted Harvest 2019\n",
    "#json_study   = get_plot(\"60955bb402700f084b013da4\") \n",
    "single_study = json.loads(json_study)   #\"Deserialising\" data\n",
    "\n",
    "\n",
    "## 1)Basic info about study\n",
    "print(\"Studyt name: \",single_study['results'][0]['results'][0]['data']['so:name'])    \n",
    "print(\"Description:\" ,single_study['results'][0]['results'][0]['data']['so:description'])    \n",
    "print(\"\\n\")\n",
    "\n",
    "## 2)Description of each phenotype observed in current experiment\n",
    "#print(single_study['results'][0]['results'][0]['data']['phenotypes'])   \n",
    "#print(single_study['results'][0]['results'][0]['data']['phenotypes']['HI_CalcGbSamp_%']['definition']['trait'])\n",
    "#print(\"\\n\")\n",
    "#print(single_study['results'][0]['results'][0]['data']['phenotypes']['GrnYld85_Fh_tha']['definition']['trait'])\n",
    "\n",
    "#  3)Observation measured in each plot\n",
    "#print(single_study['results'][0]['results'][0]['data']['plots'])       \n",
    "\n",
    "\n",
    "#print(single_study['results'][0]['results'][0]['data']['phenotypes']['GMoi_E_pct']['definition']['trait'])\n",
    "#print(single_study['results'][0]['results'][0]['data']['phenotypes']['PH_M_cm']['definition']['trait'])"
   ]
  },
  {
   "cell_type": "markdown",
   "id": "3a0ad045",
   "metadata": {},
   "source": [
    "## Tidying up\n",
    "\n",
    "### Extract and organise some basic information from phenotypes to use it in our plots"
   ]
  },
  {
   "cell_type": "code",
   "execution_count": 18,
   "id": "8c6e3dc2",
   "metadata": {},
   "outputs": [
    {
     "name": "stdout",
     "output_type": "stream",
     "text": [
      "Studyt name:  WGIN Diversity Rothamsted Harvest 2019\n",
      "Number of phenotypes in current study:  163\n",
      "\n",
      "\n",
      "HI_CalcGbSamp_%: \t Harvest index\n",
      "SpkPop_CalcGbSamp_m2: \t Spike population per unit area\n",
      "WtGrSp_CalcGbSamp_g: \t Weight of grain per spike\n",
      "TGrUa_CalcFh_m2: \t Thousand grains per unit area\n",
      "GrNoSp_CalcGbSamp_No: \t Grains per spike\n",
      "TGW_CalcTGW_g: \t Thousand Grain Weight\n",
      "GrnYld100_Fh_tha: \t Grain yield @ 100% Dry Matter\n",
      "GrnYld85_Fh_tha: \t Grain Yield @ 85% Dry Matter\n",
      "StrwYld100_CalcGbSamp_tha: \t Straw yield @ 100% Dry Matter\n",
      "StrwYld85_CalcGbSamp_tha: \t Straw Yield @ 85% Dry Matter\n",
      "BioYld100_CalcGbSamp_tha: \t Biomass yield @ 100% Dry Matter\n",
      "BmsNUpE_CalcFh_kgNOff/kg_Navail: \t Biomass Nitrogen Uptake efficiency\n",
      "BmsNUtE_CalcFh_kg_biomass/kg_Noff: \t Biomass nitrogen utilisation efficiency\n",
      "GrnNUpE_CalcFh_kgNOff/kg_Navail: \t Grain Nitrogen uptake efficiency\n",
      "GrnNUE_CalcFh_kg_grain/kg_Navail: \t Grain nitrogen use efficiency\n",
      "GrnNUtE_CalcFh_kg_grain/kg_Noff: \t Grain nitrogen utilisation efficiency\n",
      "GPD_CalcFh_%: \t Grain Protein Deviation\n",
      "Nsur_CalcFh_kgha: \t Surplus N\n",
      "GrnNCnc_Com_%: \t Grain Nitrogen concentration\n",
      "GrnAlCnc_Icp_ppm: \t Grain Aluminium concentration\n",
      "GrnCaCnc_Icp_ppm: \t Grain Calcium concentration\n",
      "GrnCdCnc_Icp_ppm: \t Grain Cadmium concentration\n",
      "GrnCoCnc_Icp_ppm: \t Grain Cobalt concentration\n",
      "GrnCrCnc_Icp_ppm: \t Grain Chromium concentration\n",
      "GrnCuCnc_Icp_ppm: \t Grain Copper concentration\n",
      "GrnFeCnc_Icp_ppm: \t Grain Iron concentration\n",
      "GrnKCnc_Icp_ppm: \t Grain Potassium concentration\n",
      "GrnMgCnc_Icp_ppm: \t Grain Magnesium concentration\n",
      "GrnMnCnc_Icp_ppm: \t Grain Manganese concentration\n",
      "GrnMoCnc_Icp_ppm: \t Grain Molybdenum concentration\n",
      "GrnNaCnc_Icp_ppm: \t Grain Sodium concentration\n",
      "GrnPCnc_Icp_ppm: \t Grain Phosphorus concentration\n",
      "GrnPbCnc_Icp_ppm: \t Grain Lead concentration\n",
      "GrnSCnc_Icp_ppm: \t Grain Sulphur concentration\n",
      "GrnTiCnc_Icp_ppm: \t Grain Titanium concentration\n",
      "GrnZnCnc_Icp_ppm: \t Grain Zinc concentration\n",
      "StrwNCnc_Com_%: \t Straw Nitrogen concentration\n",
      "StrwAlCnc_Icp_ppm: \t Straw Aluminium concentration\n",
      "StrwCaCnc_Icp_ppm: \t Straw Calcium concentration\n",
      "StrwCdCnc_Icp_ppm: \t Straw Cadmium concentration\n",
      "StrwCrCnc_Icp_ppm: \t Straw Chromium concentration\n",
      "StrwCuCnc_Icp_ppm: \t Straw Copper concentration\n",
      "StrwFeCnc_Icp_ppm: \t Straw Iron concentration\n",
      "StrwKCnc_Icp_ppm: \t Straw Potassium concentration\n",
      "StrwMgCnc_Icp_ppm: \t Straw Magnesium concentration\n",
      "StrwMnCnc_Icp_ppm: \t Straw Manganese concentration\n",
      "StrwMoCnc_Icp_ppm: \t Straw Molybdenum concentration\n",
      "StrwNaCnc_Icp_ppm: \t Straw Sodium concentration\n",
      "StrwNiCnc_Icp_ppm: \t Straw Nickel concentration\n",
      "StrwPCnc_Icp_ppm: \t Straw Phosphorus concentration\n",
      "StrwPbCnc_Icp_ppm: \t Straw Lead concentration\n",
      "StrwSCnc_Icp_ppm: \t Straw Sulphur concentration\n",
      "StrwSeCnc_Icp_ppm: \t Straw Selenium concentration\n",
      "StrwTiCnc_Icp_ppm: \t Straw Titanium concentration\n",
      "StrwZnCnc_Icp_ppm: \t Straw Zinc concentration\n",
      "BmsNCnc_CalcComb_%: \t Biomass Nitrogen concentration\n",
      "BmsAlCnc_CalcIcp_ppm: \t Biomass Aluminium concentration\n",
      "BmsCaCnc_CalcIcp_ppm: \t Biomass Calcium concentration\n",
      "BmsCdCnc_CalcIcp_ppm: \t Biomass Cadmium concentration\n",
      "BmsCrCnc_CalcIcp_ppm: \t Biomass Chromium concentration\n",
      "BmsCuCnc_CalcIcp_ppm: \t Biomass Copper concentration\n",
      "BmsFeCnc_CalcIcp_ppm: \t Biomass Iron concentration\n",
      "BmsKCnc_CalcIcp_ppm: \t Biomass Potassium concentration\n",
      "BmsMgCnc_CalcIcp_ppm: \t Biomass Magnesium concentration\n",
      "BmsMnCnc_CalcIcp_ppm: \t Biomass Manganese concentration\n",
      "BmsMoCnc_CalcIcp_ppm: \t Biomass Molybdenum concentration\n",
      "BmsNaCnc_CalcIcp_ppm: \t Biomass Sodium concentration\n",
      "BmsPCnc_CalcIcp_ppm: \t Biomass Phosphorus concentration\n",
      "BmsPbCnc_CalcIcp_ppm: \t Biomass Lead concentration\n",
      "BmsSCnc_CalcIcp_ppm: \t Biomass Sulphur concentration\n",
      "BmsTiCnc_CalcIcp_ppm: \t Biomass Titanium concentration\n",
      "BmsZnCnc_CalcIcp_ppm: \t Biomass Zinc concentration\n",
      "GrnNOff_CalcCombYld_kgha: \t Grain Nitrogen offtake\n",
      "GrnAlOff_CalcIcpYld_kgha: \t Grain Aluminium offtake\n",
      "GrnCaOff_CalcIcpYld_kgha: \t Grain Calcium offtake\n",
      "GrnCdOff_CalcIcpYld_kgha: \t Grain Cadmium offtake\n",
      "GrnCoOff_CalcIcpYld_kgha: \t Grain Cobalt offtake\n",
      "GrnCrOff_CalcIcpYld_kgha: \t Grain Chromium offtake\n",
      "GrnCuOff_CalcIcpYld_kgha: \t Grain Copper offtake\n",
      "GrnFeOff_CalcIcpYld_kgha: \t Grain Iron offtake\n",
      "GrnKOff_CalcIcpYld_kgha: \t Grain Potassium offtake\n",
      "GrnMgOff_CalcIcpYld_kgha: \t Grain Magnesium offtake\n",
      "GrnMnOff_CalcIcpYld_kgha: \t Grain Manganese offtake\n",
      "GrnMoOff_CalcIcpYld_kgha: \t Grain Molybdenum offtake\n",
      "GrnNaOff_CalcIcpYld_kgha: \t Grain Sodium offtake\n",
      "GrnPOff_CalcIcpYld_kgha: \t Grain Phosphorus offtake\n",
      "GrnPbOff_CalcIcpYld_kgha: \t Grain Lead offtake\n",
      "GrnSOff_CalcIcpYld_kgha: \t Grain Sulphur offtake\n",
      "GrnTiOff_CalcIcpYld_kgha: \t Grain Titanium offtake\n",
      "GrnZnOff_CalcIcpYld_kgha: \t Grain Zinc offtake\n",
      "StrwNOff_CalcCombYld_kgha: \t Straw Nitrogen offtake\n",
      "StrwAlOff_CalcIcpYld_kgha: \t Straw Aluminium offtake\n",
      "StrwCaOff_CalcIcpYld_kgha: \t Straw Calcium offtake\n",
      "StrwCdOff_CalcIcpYld_kgha: \t Straw Cadmium offtake\n",
      "StrwCrOff_CalcIcpYld_kgha: \t Straw Chromium offtake\n",
      "StrwCuOff_CalcIcpYld_kgha: \t Straw Copper offtake\n",
      "StrwFeOff_CalcIcpYld_kgha: \t Straw Iron offtake\n",
      "StrwKOff_CalcIcpYld_kgha: \t Straw Potassium offtake\n",
      "StrwMgOff_CalcIcpYld_kgha: \t Straw Magnesium offtake\n",
      "StrwMnOff_CalcIcpYld_kgha: \t Straw Manganese offtake\n",
      "StrwMoOff_CalcIcpYld_kgha: \t Straw Molybdenum offtake\n",
      "StrwNaOff_CalcIcpYld_kgha: \t Straw Sodium offtake\n",
      "StrwNiOff_CalcIcpYld_kgha: \t Straw Nickel offtake\n",
      "StrwPOff_CalcIcpYld_kgha: \t Straw Phosphorus offtake\n",
      "StrwPbOff_CalcIcpYld_kgha: \t Straw Lead offtake\n",
      "StrwSOff_CalcIcpYld_kgha: \t Straw Sulphur offtake\n",
      "StrwSeOff_CalcIcpYld_kgha: \t Straw Selenium offtake\n",
      "StrwTiOff_CalcIcpYld_kgha: \t Straw Titanium offtake\n",
      "StrwZnOff_CalcIcpYld_kgha: \t Straw Zinc offtake\n",
      "BmsNOff_CalcCombYld_kgha: \t Biomass Nitrogen offtake\n",
      "BmsAlOff_CalcIcpYld_kgha: \t Biomass Aluminium offtake\n",
      "BmsCaOff_CalcIcpYld_kgha: \t Biomass Calcium offtake\n",
      "BmsCdOff_CalcIcpYld_kgha: \t Biomass Cadmium offtake\n",
      "BmsCrOff_CalcIcpYld_kgha: \t Biomass Chromium offtake\n",
      "BmsCuOff_CalcIcpYld_kgha: \t Biomass Copper offtake\n",
      "BmsFeOff_CalcIcpYld_kgha: \t Biomass Iron offtake\n",
      "BmsKOff_CalcIcpYld_kgha: \t Biomass Potassium offtake\n",
      "BmsMgOff_CalcIcpYld_kgha: \t Biomass Magnesium offtake\n",
      "BmsMnOff_CalcIcpYld_kgha: \t Biomass Manganese offtake\n",
      "BmsMoOff_CalcIcpYld_kgha: \t Biomass Molybdenum offtake\n",
      "BmsNaOff_CalcIcpYld_kgha: \t Biomass Sodium offtake\n",
      "BmsPOff_CalcIcpYld_kgha: \t Biomass Phosphorus offtake\n",
      "BmsPbOff_CalcIcpYld_kgha: \t Biomass Lead offtake\n",
      "BmsSOff_CalcIcpYld_kgha: \t Biomass Sulphur offtake\n",
      "BmsTiOff_CalcIcpYld_kgha: \t Biomass Titanium offtake\n",
      "BmsZnOff_CalcIcpYld_kgha: \t Biomass Zinc offtake\n",
      "NHi_CalcCombYld_%: \t Nitrogen Harvest Index\n",
      "AlHi_CalcIcpYld_%: \t Aluminium Harvest Index\n",
      "CaHi_CalcIcpYld_%: \t Calcium Harvest Index\n",
      "CdHi_CalcIcpYld_%: \t Cadmium Harvest Index\n",
      "CrHi_CalcIcpYld_%: \t Chromium Harvest Index\n",
      "CuHi_CalcIcpYld_%: \t Copper Harvest Index\n",
      "FeHi_CalcIcpYld_%: \t Iron Harvest Index\n",
      "KHi_CalcIcpYld_%: \t Potassium Harvest Index\n",
      "MgHi_CalcIcpYld_%: \t Magnesium Harvest Index\n",
      "MnHi_CalcIcpYld_%: \t Manganese Harvest Index\n",
      "MoHi_CalcIcpYld_%: \t Molybdenum Harvest Index\n",
      "NaHi_CalcIcpYld_%: \t Sodium Harvest Index\n",
      "PHi_CalcIcpYld_%: \t Phosphorus Harvest Index\n",
      "PbHi_CalcIcpYld_%: \t Lead Harvest Index\n",
      "SHi_CalcIcpYld_%: \t Sulphur Harvest Index\n",
      "TiHi_CalcIcpYld_%: \t Titanium Harvest Index\n",
      "ZnHi_CalcIcpYld_%: \t Zinc Harvest Index\n",
      "SlMinN_SoilSam_kgha: \t Soil Mineral nitrogen\n",
      "FertN_FertApl_kgha: \t Fertiliser nitrogen\n",
      "AvailN_CalcNutAvail_kgha: \t Total available nitrogen\n",
      "GrnSeCnc_Icp_ppm: \t Grain Selenium concentration\n",
      "GrnSeOff_CalcIcpYld_kgha: \t Grain Selenium offtake\n",
      "GrnAsCnc_Icp_ppm: \t Grain Arsenic concentration\n",
      "GrnAsOff_CalcIcpYld_kgha: \t Grain Arsenic offtake\n",
      "StrwAsCnc_Icp_ppm: \t Straw Arsenic concentration\n",
      "BmsAsCnc_CalcIcp_ppm: \t Biomass Arsenic concentration\n",
      "StrwAsOff_CalcIcpYld_kgha: \t Straw Arsenic offtake\n",
      "BmsAsOff_CalcIcpYld_kgha: \t Biomass Arsenic offtake\n",
      "AsHi_CalcIcpYld_%: \t Arsenic Harvest Index\n",
      "StrwCoCnc_Icp_ppm: \t Straw Cobalt concentration\n",
      "StrwCoOff_CalcIcpYld_kgha: \t Straw Cobalt offtake\n",
      "BmsSeCnc_CalcIcp_ppm: \t Biomass Selenium concentration\n",
      "BmsSeOff_CalcIcpYld_kgha: \t Biomass Selenium offtake\n",
      "SeHi_CalcIcpYld_%: \t Selenium Harvest Index\n",
      "BmsCoCnc_CalcIcp_ppm: \t Biomass Cobalt concentration\n",
      "BmsCoOff_CalcIcpYld_kgha: \t Biomass Cobalt offtake\n",
      "CoHi_CalcIcpYld_%: \t Cobalt Harvest Index\n",
      "\n",
      "\n",
      "Total number of plots:  432\n",
      "\n",
      "\n"
     ]
    }
   ],
   "source": [
    "import nbimporter\n",
    "from src.grassroots_requests import get_plot   #Put request into a function\n",
    "\n",
    "import json\n",
    "\n",
    "#----------------------------------------------------------------------------------\n",
    "def dict_phenotypes(pheno, plots):\n",
    "\n",
    "    names  = []\n",
    "    traits = []\n",
    "    \n",
    "    for key in pheno:       #loop through all phenotype and take only the name of trait\n",
    "        \n",
    "        names.append(key)\n",
    "        traits.append(pheno[key]['definition']['trait']['so:name'])\n",
    "\n",
    "    phenoDict = dict(zip(names, traits))\n",
    "\n",
    "    \n",
    "    # Comprehensive check to non-numeric values.\n",
    "    for j in range(len(plots)):\n",
    "        if ( 'discard' in plots[j]['rows'][0] ):\n",
    "            pass\n",
    "        if ('observations' in plots[j]['rows'][0]):            \n",
    "            for k in range(len(plots[j]['rows'][0]['observations'])):\n",
    "                if ('raw_value' in plots[j]['rows'][0]['observations'][k]):\n",
    "                    rawValue = plots[j]['rows'][0]['observations'][k]['raw_value']\n",
    "                if ('corrected_value' in plots[j]['rows'][0]['observations'][k]):\n",
    "                    rawValue = plots[j]['rows'][0]['observations'][k]['corrected_value']\n",
    "                if ( type(rawValue) == str):\n",
    "                    #print(rawValue)\n",
    "                    name = plots[j]['rows'][0]['observations'][k]['phenotype']['variable']\n",
    "                    if( name in phenoDict.keys() ):\n",
    "                        print(\"Remove pheonotypes with non-numeric value: \", phenoDict[name])\n",
    "                        del phenoDict[name]\n",
    "\n",
    "    return phenoDict\n",
    "#----------------------------------------------------------------------------------\n",
    "\n",
    "\n",
    "json_study   = get_plot(\"603e3e9502700f7faf25dfb4\") \n",
    "#json_study   = get_plot(\"60955bb402700f084b013da4\") \n",
    "\n",
    "single_study = json.loads(json_study)   #Deserialising data\n",
    "\n",
    "plots      = single_study['results'][0]['results'][0]['data']['plots']\n",
    "phenotypes = single_study['results'][0]['results'][0]['data']['phenotypes']\n",
    "\n",
    "traits = dict_phenotypes(phenotypes, plots)\n",
    "\n",
    "print(\"Studyt name: \",single_study['results'][0]['results'][0]['data']['so:name'])  \n",
    "print(\"Number of phenotypes in current study: \", len(traits))\n",
    "print(\"\\n\")\n",
    "for item in traits:\n",
    "    print(f'{item}: \\t {traits[item]}')\n",
    "\n",
    "print(\"\\n\")\n",
    "print(\"Total number of plots: \", len(single_study['results'][0]['results'][0]['data']['plots']))  \n",
    "print(\"\\n\")\n",
    "\n",
    "#print(single_study['results'][0]['results'][0]['data']['plots'][1]['rows'][0] )\n",
    "#print(single_study['results'][0]['results'][0]['data']['plots'][2]['rows'][0]['observations'][0]['phenotype'])\n",
    "#print(single_study['results'][0]['results'][0]['data']['plots'][2]['rows'][0]['observations'][0]['raw_value'])    \n",
    "#print(single_study['results'][0]['results'][0]['data']['plots'][3]['rows'][0]['observations'][0]['phenotype'])\n",
    "#print(single_study['results'][0]['results'][0]['data']['plots'][3]['rows'][0]['observations'][0]['raw_value'])    \n",
    "\n"
   ]
  },
  {
   "cell_type": "markdown",
   "id": "11cc8c4a",
   "metadata": {},
   "source": [
    "## Loop through plot array to create matrix\n",
    "\n",
    "### Use Seaborn package to create heatmap"
   ]
  },
  {
   "cell_type": "code",
   "execution_count": null,
   "id": "ded387e6",
   "metadata": {},
   "outputs": [],
   "source": [
    "import json\n",
    "import nbimporter\n",
    "from src.grassroots_requests import get_plot\n",
    "from src.grassroots_plots    import dict_phenotypes\n",
    "\n",
    "from src.grassroots_plots    import create_matrices\n",
    "from src.grassroots_plots    import seaborn_plot\n",
    "\n",
    "json_study   = get_plot(\"603e3e9502700f7faf25dfb4\") \n",
    "#json_study   = get_plot(\"60955bb402700f084b013da4\") \n",
    "single_study = json.loads(json_study)   \n",
    "\n",
    "\n",
    "plots      = single_study['results'][0]['results'][0]['data']['plots']\n",
    "phenotypes = single_study['results'][0]['results'][0]['data']['phenotypes']\n",
    "total_rows = single_study['results'][0]['results'][0]['data']['num_rows']\n",
    "total_cols = single_study['results'][0]['results'][0]['data']['num_columns']\n",
    "traits     = dict_phenotypes(phenotypes, plots)\n",
    "\n",
    "phenotype_selected = \"HI_CalcGbSamp_%\" \n",
    "#phenotype_selected = \"GrnYld85_Fh_tha\" \n",
    "phenotype_selected = list(phenotypes.keys())[0]\n",
    "title = traits[phenotype_selected]\n",
    "print(phenotype_selected, title)\n",
    "print(\"\\n\")\n",
    "\n",
    "matrices  = create_matrices(plots, phenotypes, phenotype_selected, total_rows, total_cols)\n",
    "\n",
    "rows       = matrices[0] \n",
    "columns    = matrices[1]\n",
    "raw_values = matrices[2]\n",
    "title      = matrices[3]\n",
    "units      = matrices[4]\n",
    "\n",
    "\n",
    "matrix   = raw_values.reshape(rows,columns)   #Seaborn can plot a typical matrix or a csv table. \n",
    "print(matrix)              \n",
    "\n",
    "colormap  =\"seagreen\"\n",
    "#colormap =\"xkcd:copper\"\n",
    "#colormap =\"#a275ac\"\n",
    "#seaborn_plot(matrix, title, units, phenotype_selected, colormap)"
   ]
  },
  {
   "cell_type": "markdown",
   "id": "36799740",
   "metadata": {},
   "source": [
    "## Inteactive heatmap using Plotly package\n",
    "\n",
    "### Reuse matrices"
   ]
  },
  {
   "cell_type": "code",
   "execution_count": 19,
   "id": "fba027ba",
   "metadata": {
    "scrolled": false
   },
   "outputs": [
    {
     "name": "stdout",
     "output_type": "stream",
     "text": [
      "HI_CalcGbSamp_% Harvest index\n",
      "\n",
      "\n"
     ]
    },
    {
     "data": {
      "application/vnd.plotly.v1+json": {
       "config": {
        "plotlyServerURL": "https://plot.ly"
       },
       "data": [
        {
         "coloraxis": "coloraxis",
         "customdata": [
          [
           [
            "Discarded",
            "N/A"
           ],
           [
            "Discarded",
            "N/A"
           ],
           [
            "KWS Zyatt",
            "49.86813714"
           ],
           [
            "Robigus",
            "38.11149033"
           ],
           [
            "Mercia",
            "46.60310687"
           ],
           [
            "Solstice",
            "35.82515312"
           ],
           [
            "Crusoe",
            "44.23633318"
           ],
           [
            "Hereward",
            "42.82373575"
           ],
           [
            "Malacca",
            "49.19048726"
           ],
           [
            "Soissons",
            "47.49737945"
           ],
           [
            "Riband",
            "47.5387942"
           ],
           [
            "Cadenza",
            "40.57279236"
           ],
           [
            "Graham",
            "49.4549711"
           ],
           [
            "KWS Barrel",
            "51.23686234"
           ],
           [
            "Claire",
            "53.90435018"
           ],
           [
            "Xi19",
            "45.36549529"
           ],
           [
            "Avalon",
            "38.37743276"
           ],
           [
            "Siskin",
            "51.81052152"
           ],
           [
            "Istabraq",
            "49.14543491"
           ],
           [
            "Hylux",
            "45.62369176"
           ],
           [
            "Maris Widgeon",
            "34.81596862"
           ],
           [
            "Paragon",
            "37.39817329"
           ],
           [
            "Discarded",
            "N/A"
           ],
           [
            "Discarded",
            "N/A"
           ],
           [
            "Discarded",
            "N/A"
           ],
           [
            "Discarded",
            "N/A"
           ],
           [
            "Siskin",
            "56.96897593"
           ],
           [
            "Riband",
            "54.86232856"
           ],
           [
            "Paragon",
            "47.87761462"
           ],
           [
            "Xi19",
            "53.82384088"
           ],
           [
            "Avalon",
            "51.49466568"
           ],
           [
            "Hylux",
            "56.71222063"
           ],
           [
            "Graham",
            "54.61736456"
           ],
           [
            "Solstice",
            "52.87603653"
           ],
           [
            "Maris Widgeon",
            "42.39690113"
           ],
           [
            "Claire",
            "52.44505331"
           ],
           [
            "Hereward",
            "50.30869348"
           ],
           [
            "Cadenza",
            "50.6192428"
           ],
           [
            "Crusoe",
            "53.98088292"
           ],
           [
            "KWS Zyatt",
            "55.13671655"
           ],
           [
            "KWS Barrel",
            "56.82965123"
           ],
           [
            "Soissons",
            "50.70684078"
           ],
           [
            "Malacca",
            "54.91020762"
           ],
           [
            "Istabraq",
            "56.12685793"
           ],
           [
            "Mercia",
            "50.18127884"
           ],
           [
            "Robigus",
            "53.26199142"
           ],
           [
            "Discarded",
            "N/A"
           ],
           [
            "Discarded",
            "N/A"
           ],
           [
            "Discarded",
            "N/A"
           ],
           [
            "Discarded",
            "N/A"
           ],
           [
            "Maris Widgeon",
            "41.85242978"
           ],
           [
            "KWS Zyatt",
            "52.37555211"
           ],
           [
            "Solstice",
            "50.42775918"
           ],
           [
            "Robigus",
            "52.60802864"
           ],
           [
            "Graham",
            "52.33314071"
           ],
           [
            "Cadenza",
            "49.27104395"
           ],
           [
            "Avalon",
            "48.42248224"
           ],
           [
            "Paragon",
            "44.7276104"
           ],
           [
            "Siskin",
            "53.86372288"
           ],
           [
            "Istabraq",
            "53.96899709"
           ],
           [
            "KWS Barrel",
            "54.23228894"
           ],
           [
            "Hylux",
            "53.47133581"
           ],
           [
            "Malacca",
            "51.97747871"
           ],
           [
            "Riband",
            "52.28406257"
           ],
           [
            "Hereward",
            "47.77693571"
           ],
           [
            "Mercia",
            "48.36641015"
           ],
           [
            "Crusoe",
            "51.36776251"
           ],
           [
            "Claire",
            "51.99618171"
           ],
           [
            "Soissons",
            "48.38709677"
           ],
           [
            "Xi19",
            "51.48333654"
           ],
           [
            "Discarded",
            "N/A"
           ],
           [
            "Discarded",
            "N/A"
           ]
          ],
          [
           [
            "Discarded",
            "N/A"
           ],
           [
            "Discarded",
            "N/A"
           ],
           [
            "Claire",
            "42.30069863"
           ],
           [
            "Hylux",
            "53.04928989"
           ],
           [
            "Graham",
            "51.18569392"
           ],
           [
            "KWS Barrel",
            "51.95001207"
           ],
           [
            "Xi19",
            "48.73160225"
           ],
           [
            "Maris Widgeon",
            "40.59278351"
           ],
           [
            "Robigus",
            "34.86915367"
           ],
           [
            "Avalon",
            "44.18589011"
           ],
           [
            "Istabraq",
            "50.20294098"
           ],
           [
            "Soissons",
            "48.56204289"
           ],
           [
            "Riband",
            "49.40664321"
           ],
           [
            "Siskin",
            "50.35949848"
           ],
           [
            "Solstice",
            "38.15681292"
           ],
           [
            "Cadenza",
            "40.00253984"
           ],
           [
            "KWS Zyatt",
            "49.18603033"
           ],
           [
            "Crusoe",
            "45.64328606"
           ],
           [
            "Paragon",
            "41.94446055"
           ],
           [
            "Mercia",
            "45.43267785"
           ],
           [
            "Malacca",
            "47.74312208"
           ],
           [
            "Hereward",
            "46.76009034"
           ],
           [
            "Discarded",
            "N/A"
           ],
           [
            "Discarded",
            "N/A"
           ],
           [
            "Discarded",
            "N/A"
           ],
           [
            "Discarded",
            "N/A"
           ],
           [
            "Malacca",
            "54.28749827"
           ],
           [
            "Claire",
            "51.07335106"
           ],
           [
            "KWS Barrel",
            "56.08984113"
           ],
           [
            "Hylux",
            "57.36429951"
           ],
           [
            "Riband",
            "54.79100339"
           ],
           [
            "Soissons",
            "51.00574713"
           ],
           [
            "KWS Zyatt",
            "54.62595221"
           ],
           [
            "Hereward",
            "51.73322789"
           ],
           [
            "Crusoe",
            "54.57399655"
           ],
           [
            "Paragon",
            "45.95658593"
           ],
           [
            "Siskin",
            "54.82046777"
           ],
           [
            "Mercia",
            "50.69201827"
           ],
           [
            "Robigus",
            "49.73949853"
           ],
           [
            "Istabraq",
            "53.01990391"
           ],
           [
            "Maris Widgeon",
            "42.60151034"
           ],
           [
            "Graham",
            "54.43359636"
           ],
           [
            "Xi19",
            "52.25809722"
           ],
           [
            "Solstice",
            "51.24259006"
           ],
           [
            "Avalon",
            "50.24490016"
           ],
           [
            "Cadenza",
            "50.55989141"
           ],
           [
            "Discarded",
            "N/A"
           ],
           [
            "Discarded",
            "N/A"
           ],
           [
            "Discarded",
            "N/A"
           ],
           [
            "Discarded",
            "N/A"
           ],
           [
            "KWS Barrel",
            "54.97461315"
           ],
           [
            "Graham",
            "54.4329746"
           ],
           [
            "Istabraq",
            "51.88009933"
           ],
           [
            "Crusoe",
            "52.75802422"
           ],
           [
            "Soissons",
            "51.03359173"
           ],
           [
            "Robigus",
            "51.37085977"
           ],
           [
            "Mercia",
            "50.15329246"
           ],
           [
            "Claire",
            "55.6066923"
           ],
           [
            "Hereward",
            "52.8823667"
           ],
           [
            "KWS Zyatt",
            "55.98982567"
           ],
           [
            "Paragon",
            "47.93644996"
           ],
           [
            "Xi19",
            "54.47807883"
           ],
           [
            "Siskin",
            "54.94963943"
           ],
           [
            "Avalon",
            "52.51521764"
           ],
           [
            "Solstice",
            "52.47796727"
           ],
           [
            "Cadenza",
            "51.50192014"
           ],
           [
            "Maris Widgeon",
            "43.44548963"
           ],
           [
            "Riband",
            "55.71462658"
           ],
           [
            "Hylux",
            "57.73323874"
           ],
           [
            "Malacca",
            "55.71364385"
           ],
           [
            "Discarded",
            "N/A"
           ],
           [
            "Discarded",
            "N/A"
           ]
          ],
          [
           [
            "Discarded",
            "N/A"
           ],
           [
            "Discarded",
            "N/A"
           ],
           [
            "Riband",
            "44.04605075"
           ],
           [
            "Xi19",
            "54.39053013"
           ],
           [
            "Soissons",
            "51.3270077"
           ],
           [
            "Paragon",
            "46.88320019"
           ],
           [
            "Malacca",
            "54.74085978"
           ],
           [
            "KWS Barrel",
            "56.37903653"
           ],
           [
            "Crusoe",
            "51.4822496"
           ],
           [
            "Mercia",
            "50.49663767"
           ],
           [
            "KWS Zyatt",
            "53.88177281"
           ],
           [
            "Hylux",
            "56.70759963"
           ],
           [
            "Avalon",
            "50.69099547"
           ],
           [
            "Hereward",
            "49.89320335"
           ],
           [
            "Istabraq",
            "53.98955584"
           ],
           [
            "Robigus",
            "51.48365024"
           ],
           [
            "Graham",
            "52.58296707"
           ],
           [
            "Maris Widgeon",
            "42.46761387"
           ],
           [
            "Claire",
            "51.62778608"
           ],
           [
            "Cadenza",
            "47.99378546"
           ],
           [
            "Siskin",
            "56.22273682"
           ],
           [
            "Solstice",
            "51.06783225"
           ],
           [
            "Discarded",
            "N/A"
           ],
           [
            "Discarded",
            "N/A"
           ],
           [
            "Discarded",
            "N/A"
           ],
           [
            "Discarded",
            "N/A"
           ],
           [
            "Xi19",
            "47.61123866"
           ],
           [
            "Paragon",
            "41.11934434"
           ],
           [
            "Maris Widgeon",
            "36.14607229"
           ],
           [
            "Soissons",
            "45.41510945"
           ],
           [
            "Claire",
            "40.37094625"
           ],
           [
            "Graham",
            "49.89145894"
           ],
           [
            "Istabraq",
            "56.83313491"
           ],
           [
            "Siskin",
            "51.71700455"
           ],
           [
            "Robigus",
            "37.61596137"
           ],
           [
            "KWS Barrel",
            "52.35696294"
           ],
           [
            "Malacca",
            "50.92884131"
           ],
           [
            "Avalon",
            "41.82454095"
           ],
           [
            "Cadenza",
            "42.57251362"
           ],
           [
            "Solstice",
            "35.86806402"
           ],
           [
            "Crusoe",
            "45.58099722"
           ],
           [
            "KWS Zyatt",
            "49.05736874"
           ],
           [
            "Hylux",
            "50.1532252"
           ],
           [
            "Hereward",
            "45.1188553"
           ],
           [
            "Riband",
            "51.68356771"
           ],
           [
            "Mercia",
            "44.51608701"
           ],
           [
            "Discarded",
            "N/A"
           ],
           [
            "Discarded",
            "N/A"
           ],
           [
            "Discarded",
            "N/A"
           ],
           [
            "Discarded",
            "N/A"
           ],
           [
            "Istabraq",
            "55.65096061"
           ],
           [
            "Cadenza",
            "52.60469867"
           ],
           [
            "Avalon",
            "49.21597802"
           ],
           [
            "Hereward",
            "50.01904278"
           ],
           [
            "Robigus",
            "51.88840908"
           ],
           [
            "Siskin",
            "57.48921612"
           ],
           [
            "Xi19",
            "53.43803869"
           ],
           [
            "Graham",
            "56.394701"
           ],
           [
            "Claire",
            "54.42606737"
           ],
           [
            "Mercia",
            "52.02262104"
           ],
           [
            "KWS Zyatt",
            "55.24793897"
           ],
           [
            "Maris Widgeon",
            "43.54675369"
           ],
           [
            "Paragon",
            "44.95480734"
           ],
           [
            "Hylux",
            "57.988949"
           ],
           [
            "Riband",
            "55.93892632"
           ],
           [
            "Malacca",
            "55.6821058"
           ],
           [
            "Solstice",
            "53.90995261"
           ],
           [
            "Soissons",
            "52.97175776"
           ],
           [
            "Crusoe",
            "55.91379603"
           ],
           [
            "KWS Barrel",
            "58.5320048"
           ],
           [
            "Discarded",
            "N/A"
           ],
           [
            "Discarded",
            "N/A"
           ]
          ],
          [
           [
            "Discarded",
            "N/A"
           ],
           [
            "Discarded",
            "N/A"
           ],
           [
            "Cadenza",
            "51.6849425"
           ],
           [
            "Hereward",
            "49.91342767"
           ],
           [
            "Malacca",
            "54.72149029"
           ],
           [
            "Avalon",
            "52.49046382"
           ],
           [
            "Solstice",
            "54.5505361"
           ],
           [
            "Riband",
            "57.17228267"
           ],
           [
            "Paragon",
            "48.57452361"
           ],
           [
            "Crusoe",
            "56.31962163"
           ],
           [
            "Hylux",
            "60.08636341"
           ],
           [
            "Siskin",
            "57.31950969"
           ],
           [
            "Robigus",
            "55.23080632"
           ],
           [
            "KWS Zyatt",
            "56.29848327"
           ],
           [
            "Soissons",
            "52.42122335"
           ],
           [
            "KWS Barrel",
            "57.32221879"
           ],
           [
            "Xi19",
            "55.50578096"
           ],
           [
            "Claire",
            "54.55069728"
           ],
           [
            "Mercia",
            "51.18507312"
           ],
           [
            "Maris Widgeon",
            "43.46038502"
           ],
           [
            "Istabraq",
            "56.37076194"
           ],
           [
            "Graham",
            "55.17159903"
           ],
           [
            "Discarded",
            "N/A"
           ],
           [
            "Discarded",
            "N/A"
           ],
           [
            "Discarded",
            "N/A"
           ],
           [
            "Discarded",
            "N/A"
           ],
           [
            "Soissons",
            "49.76318484"
           ],
           [
            "Maris Widgeon",
            "41.80186575"
           ],
           [
            "Robigus",
            "52.23305955"
           ],
           [
            "KWS Zyatt",
            "52.25922907"
           ],
           [
            "KWS Barrel",
            "54.24057941"
           ],
           [
            "Istabraq",
            "53.8315231"
           ],
           [
            "Hereward",
            "49.38271605"
           ],
           [
            "Xi19",
            "51.77797925"
           ],
           [
            "Mercia",
            "49.02842749"
           ],
           [
            "Crusoe",
            "51.88811976"
           ],
           [
            "Hylux",
            "55.59689593"
           ],
           [
            "Claire",
            "50.13431441"
           ],
           [
            "Avalon",
            "47.37103175"
           ],
           [
            "Siskin",
            "52.41848413"
           ],
           [
            "Cadenza",
            "48.32856267"
           ],
           [
            "Solstice",
            "50.50531092"
           ],
           [
            "Graham",
            "51.59997282"
           ],
           [
            "Malacca",
            "52.38127135"
           ],
           [
            "Paragon",
            "44.62165789"
           ],
           [
            "Riband",
            "51.90549183"
           ],
           [
            "Discarded",
            "N/A"
           ],
           [
            "Discarded",
            "N/A"
           ],
           [
            "Discarded",
            "N/A"
           ],
           [
            "Discarded",
            "N/A"
           ],
           [
            "Avalon",
            "40.83029197"
           ],
           [
            "Malacca",
            "47.41558983"
           ],
           [
            "Hylux",
            "49.70033155"
           ],
           [
            "Claire",
            "40.16885717"
           ],
           [
            "Siskin",
            "50.17590403"
           ],
           [
            "Paragon",
            "40.23608365"
           ],
           [
            "Maris Widgeon",
            "38.39571602"
           ],
           [
            "Cadenza",
            "41.65463054"
           ],
           [
            "Graham",
            "48.64540708"
           ],
           [
            "Xi19",
            "47.96102287"
           ],
           [
            "Mercia",
            "44.05453168"
           ],
           [
            "Solstice",
            "38.912362"
           ],
           [
            "KWS Zyatt",
            "47.45455765"
           ],
           [
            "Crusoe",
            "44.07072587"
           ],
           [
            "Soissons",
            "45.89749759"
           ],
           [
            "KWS Barrel",
            "50.63647629"
           ],
           [
            "Riband",
            "49.61055568"
           ],
           [
            "Robigus",
            "35.58031774"
           ],
           [
            "Hereward",
            "46.22545269"
           ],
           [
            "Istabraq",
            "52.21282944"
           ],
           [
            "Discarded",
            "N/A"
           ],
           [
            "Discarded",
            "N/A"
           ]
          ],
          [
           [
            "Discarded",
            "N/A"
           ],
           [
            "Discarded",
            "N/A"
           ],
           [
            "Hereward",
            "48.31341135"
           ],
           [
            "Avalon",
            "45.08419337"
           ],
           [
            "Claire",
            "43.07295153"
           ],
           [
            "Malacca",
            "49.25766616"
           ],
           [
            "Mercia",
            "46.25089691"
           ],
           [
            "Xi19",
            "49.59900963"
           ],
           [
            "Soissons",
            "46.74854265"
           ],
           [
            "Istabraq",
            "51.86428234"
           ],
           [
            "KWS Barrel",
            "52.06483762"
           ],
           [
            "Riband",
            "50.48177629"
           ],
           [
            "Solstice",
            "43.61708921"
           ],
           [
            "Robigus",
            "36.14672365"
           ],
           [
            "Maris Widgeon",
            "38.35251431"
           ],
           [
            "Graham",
            "49.58195606"
           ],
           [
            "Paragon",
            "41.57845213"
           ],
           [
            "Hylux",
            "50.68868483"
           ],
           [
            "Siskin",
            "54.96987952"
           ],
           [
            "KWS Zyatt",
            "48.54303746"
           ],
           [
            "Cadenza",
            "41.48801256"
           ],
           [
            "Crusoe",
            "44.61580832"
           ],
           [
            "Discarded",
            "N/A"
           ],
           [
            "Discarded",
            "N/A"
           ],
           [
            "Discarded",
            "N/A"
           ],
           [
            "Discarded",
            "N/A"
           ],
           [
            "Solstice",
            "43.6552108"
           ],
           [
            "Mercia",
            "44.34930388"
           ],
           [
            "Riband",
            "50.5067473"
           ],
           [
            "Siskin",
            "50.52137325"
           ],
           [
            "Cadenza",
            "42.08479679"
           ],
           [
            "Malacca",
            "48.84309726"
           ],
           [
            "Hylux",
            "49.75719614"
           ],
           [
            "KWS Zyatt",
            "49.54499494"
           ],
           [
            "Paragon",
            "41.85339309"
           ],
           [
            "Avalon",
            "43.22568555"
           ],
           [
            "Istabraq",
            "50.11402191"
           ],
           [
            "Crusoe",
            "45.48898289"
           ],
           [
            "KWS Barrel",
            "52.10375931"
           ],
           [
            "Soissons",
            "45.31875891"
           ],
           [
            "Claire",
            "42.03935599"
           ],
           [
            "Xi19",
            "46.68341408"
           ],
           [
            "Hereward",
            "45.43845991"
           ],
           [
            "Graham",
            "47.71301713"
           ],
           [
            "Robigus",
            "38.37814397"
           ],
           [
            "Maris Widgeon",
            "38.90382745"
           ],
           [
            "Discarded",
            "N/A"
           ],
           [
            "Discarded",
            "N/A"
           ],
           [
            "Discarded",
            "N/A"
           ],
           [
            "Discarded",
            "N/A"
           ],
           [
            "Graham",
            "47.86330593"
           ],
           [
            "Crusoe",
            "45.22704523"
           ],
           [
            "Cadenza",
            "42.33994114"
           ],
           [
            "Istabraq",
            "49.20362366"
           ],
           [
            "Maris Widgeon",
            "39.07442457"
           ],
           [
            "Solstice",
            "42.01586351"
           ],
           [
            "Siskin",
            "50.45594541"
           ],
           [
            "Hylux",
            "50.56546324"
           ],
           [
            "Avalon",
            "42.66064904"
           ],
           [
            "Robigus",
            "33.25729379"
           ],
           [
            "Soissons",
            "45.19211627"
           ],
           [
            "Paragon",
            "39.43383398"
           ],
           [
            "Riband",
            "48.78415794"
           ],
           [
            "Malacca",
            "46.02527191"
           ],
           [
            "Mercia",
            "45.35826676"
           ],
           [
            "Hereward",
            "43.14964958"
           ],
           [
            "KWS Zyatt",
            "47.96034564"
           ],
           [
            "Xi19",
            "43.60047473"
           ],
           [
            "KWS Barrel",
            "50.21399723"
           ],
           [
            "Claire",
            "43.56427309"
           ],
           [
            "Discarded",
            "N/A"
           ],
           [
            "Discarded",
            "N/A"
           ]
          ],
          [
           [
            "Discarded",
            "N/A"
           ],
           [
            "Discarded",
            "N/A"
           ],
           [
            "Hylux",
            "56.30160387"
           ],
           [
            "KWS Barrel",
            "55.79738821"
           ],
           [
            "Crusoe",
            "54.16617281"
           ],
           [
            "Graham",
            "54.36962287"
           ],
           [
            "Paragon",
            "46.98084702"
           ],
           [
            "KWS Zyatt",
            "54.3596643"
           ],
           [
            "Solstice",
            "46.94535407"
           ],
           [
            "Malacca",
            "53.01509165"
           ],
           [
            "Cadenza",
            "51.3828115"
           ],
           [
            "Maris Widgeon",
            "42.80868756"
           ],
           [
            "Xi19",
            "53.87147489"
           ],
           [
            "Riband",
            "53.61230119"
           ],
           [
            "Mercia",
            "48.88268156"
           ],
           [
            "Hereward",
            "51.0528526"
           ],
           [
            "Robigus",
            "51.04834642"
           ],
           [
            "Istabraq",
            "54.69685425"
           ],
           [
            "Soissons",
            "52.32338496"
           ],
           [
            "Siskin",
            "55.63793819"
           ],
           [
            "Claire",
            "52.43627958"
           ],
           [
            "Avalon",
            "51.56232438"
           ],
           [
            "Discarded",
            "N/A"
           ],
           [
            "Discarded",
            "N/A"
           ],
           [
            "Discarded",
            "N/A"
           ],
           [
            "Discarded",
            "N/A"
           ],
           [
            "Paragon",
            "36.01961694"
           ],
           [
            "Soissons",
            "45.61816873"
           ],
           [
            "KWS Zyatt",
            "43.45037678"
           ],
           [
            "Maris Widgeon",
            "35.14938489"
           ],
           [
            "Hylux",
            "47.10561625"
           ],
           [
            "Crusoe",
            "43.86956171"
           ],
           [
            "Cadenza",
            "40.06440027"
           ],
           [
            "Riband",
            "46.55500035"
           ],
           [
            "Solstice",
            "37.81512605"
           ],
           [
            "Graham",
            "50.37056188"
           ],
           [
            "Claire",
            "38.16914793"
           ],
           [
            "Malacca",
            "47.46991924"
           ],
           [
            "Hereward",
            "45.19774011"
           ],
           [
            "Mercia",
            "46.05590725"
           ],
           [
            "Istabraq",
            "49.90326239"
           ],
           [
            "Robigus",
            "31.64036818"
           ],
           [
            "KWS Barrel",
            "49.75195916"
           ],
           [
            "Avalon",
            "N/A"
           ],
           [
            "Xi19",
            "N/A"
           ],
           [
            "Siskin",
            "N/A"
           ],
           [
            "Discarded",
            "N/A"
           ],
           [
            "Discarded",
            "N/A"
           ],
           [
            "Discarded",
            "N/A"
           ],
           [
            "Discarded",
            "N/A"
           ],
           [
            "Mercia",
            "39.12493077"
           ],
           [
            "Siskin",
            "47.43520881"
           ],
           [
            "Xi19",
            "46.0862973"
           ],
           [
            "Riband",
            "50.27557037"
           ],
           [
            "Hereward",
            "46.70965029"
           ],
           [
            "Claire",
            "43.42150074"
           ],
           [
            "KWS Barrel",
            "51.41554376"
           ],
           [
            "Robigus",
            "29.72188264"
           ],
           [
            "Soissons",
            "44.43643985"
           ],
           [
            "Malacca",
            "46.4502894"
           ],
           [
            "Cadenza",
            "36.79811012"
           ],
           [
            "Istabraq",
            "46.97904576"
           ],
           [
            "Graham",
            "45.08196721"
           ],
           [
            "Maris Widgeon",
            "30.8854272"
           ],
           [
            "Hylux",
            "40.19372878"
           ],
           [
            "Paragon",
            "35.70423526"
           ],
           [
            "Avalon",
            "38.56807118"
           ],
           [
            "Crusoe",
            "43.86718191"
           ],
           [
            "Solstice",
            "41.39072848"
           ],
           [
            "KWS Zyatt",
            "48.84662665"
           ],
           [
            "Discarded",
            "N/A"
           ],
           [
            "Discarded",
            "N/A"
           ]
          ]
         ],
         "hovertemplate": "Accession: %{customdata[0]}<br>Raw value: %{customdata[1]}<br> (column: %{x}, row:%{y})<extra></extra>",
         "name": "0",
         "type": "heatmap",
         "xaxis": "x",
         "yaxis": "y",
         "z": [
          [
           null,
           null,
           49.86813714,
           38.11149033,
           46.60310687,
           35.82515312,
           44.23633318,
           42.82373575,
           49.19048726,
           47.49737945,
           47.5387942,
           40.57279236,
           49.4549711,
           51.23686234,
           53.90435018,
           45.36549529,
           38.37743276,
           51.81052152,
           49.14543491,
           45.62369176,
           34.81596862,
           37.39817329,
           null,
           null,
           null,
           null,
           56.96897593,
           54.86232856,
           47.87761462,
           53.82384088,
           51.49466568,
           56.71222063,
           54.61736456,
           52.87603653,
           42.39690113,
           52.44505331,
           50.30869348,
           50.6192428,
           53.98088292,
           55.13671655,
           56.82965123,
           50.70684078,
           54.91020762,
           56.12685793,
           50.18127884,
           53.26199142,
           null,
           null,
           null,
           null,
           41.85242978,
           52.37555211,
           50.42775918,
           52.60802864,
           52.33314071,
           49.27104395,
           48.42248224,
           44.7276104,
           53.86372288,
           53.96899709,
           54.23228894,
           53.47133581,
           51.97747871,
           52.28406257,
           47.77693571,
           48.36641015,
           51.36776251,
           51.99618171,
           48.38709677,
           51.48333654,
           null,
           null
          ],
          [
           null,
           null,
           42.30069863,
           53.04928989,
           51.18569392,
           51.95001207,
           48.73160225,
           40.59278351,
           34.86915367,
           44.18589011,
           50.20294098,
           48.56204289,
           49.40664321,
           50.35949848,
           38.15681292,
           40.00253984,
           49.18603033,
           45.64328606,
           41.94446055,
           45.43267785,
           47.74312208,
           46.76009034,
           null,
           null,
           null,
           null,
           54.28749827,
           51.07335106,
           56.08984113,
           57.36429951,
           54.79100339,
           51.00574713,
           54.62595221,
           51.73322789,
           54.57399655,
           45.95658593,
           54.82046777,
           50.69201827,
           49.73949853,
           53.01990391,
           42.60151034,
           54.43359636,
           52.25809722,
           51.24259006,
           50.24490016,
           50.55989141,
           null,
           null,
           null,
           null,
           54.97461315,
           54.4329746,
           51.88009933,
           52.75802422,
           51.03359173,
           51.37085977,
           50.15329246,
           55.6066923,
           52.8823667,
           55.98982567,
           47.93644996,
           54.47807883,
           54.94963943,
           52.51521764,
           52.47796727,
           51.50192014,
           43.44548963,
           55.71462658,
           57.73323874,
           55.71364385,
           null,
           null
          ],
          [
           null,
           null,
           44.04605075,
           54.39053013,
           51.3270077,
           46.88320019,
           54.74085978,
           56.37903653,
           51.4822496,
           50.49663767,
           53.88177281,
           56.70759963,
           50.69099547,
           49.89320335,
           53.98955584,
           51.48365024,
           52.58296707,
           42.46761387,
           51.62778608,
           47.99378546,
           56.22273682,
           51.06783225,
           null,
           null,
           null,
           null,
           47.61123866,
           41.11934434,
           36.14607229,
           45.41510945,
           40.37094625,
           49.89145894,
           56.83313491,
           51.71700455,
           37.61596137,
           52.35696294,
           50.92884131,
           41.82454095,
           42.57251362,
           35.86806402,
           45.58099722,
           49.05736874,
           50.1532252,
           45.1188553,
           51.68356771,
           44.51608701,
           null,
           null,
           null,
           null,
           55.65096061,
           52.60469867,
           49.21597802,
           50.01904278,
           51.88840908,
           57.48921612,
           53.43803869,
           56.394701,
           54.42606737,
           52.02262104,
           55.24793897,
           43.54675369,
           44.95480734,
           57.988949,
           55.93892632,
           55.6821058,
           53.90995261,
           52.97175776,
           55.91379603,
           58.5320048,
           null,
           null
          ],
          [
           null,
           null,
           51.6849425,
           49.91342767,
           54.72149029,
           52.49046382,
           54.5505361,
           57.17228267,
           48.57452361,
           56.31962163,
           60.08636341,
           57.31950969,
           55.23080632,
           56.29848327,
           52.42122335,
           57.32221879,
           55.50578096,
           54.55069728,
           51.18507312,
           43.46038502,
           56.37076194,
           55.17159903,
           null,
           null,
           null,
           null,
           49.76318484,
           41.80186575,
           52.23305955,
           52.25922907,
           54.24057941,
           53.8315231,
           49.38271605,
           51.77797925,
           49.02842749,
           51.88811976,
           55.59689593,
           50.13431441,
           47.37103175,
           52.41848413,
           48.32856267,
           50.50531092,
           51.59997282,
           52.38127135,
           44.62165789,
           51.90549183,
           null,
           null,
           null,
           null,
           40.83029197,
           47.41558983,
           49.70033155,
           40.16885717,
           50.17590403,
           40.23608365,
           38.39571602,
           41.65463054,
           48.64540708,
           47.96102287,
           44.05453168,
           38.912362,
           47.45455765,
           44.07072587,
           45.89749759,
           50.63647629,
           49.61055568,
           35.58031774,
           46.22545269,
           52.21282944,
           null,
           null
          ],
          [
           null,
           null,
           48.31341135,
           45.08419337,
           43.07295153,
           49.25766616,
           46.25089691,
           49.59900963,
           46.74854265,
           51.86428234,
           52.06483762,
           50.48177629,
           43.61708921,
           36.14672365,
           38.35251431,
           49.58195606,
           41.57845213,
           50.68868483,
           54.96987952,
           48.54303746,
           41.48801256,
           44.61580832,
           null,
           null,
           null,
           null,
           43.6552108,
           44.34930388,
           50.5067473,
           50.52137325,
           42.08479679,
           48.84309726,
           49.75719614,
           49.54499494,
           41.85339309,
           43.22568555,
           50.11402191,
           45.48898289,
           52.10375931,
           45.31875891,
           42.03935599,
           46.68341408,
           45.43845991,
           47.71301713,
           38.37814397,
           38.90382745,
           null,
           null,
           null,
           null,
           47.86330593,
           45.22704523,
           42.33994114,
           49.20362366,
           39.07442457,
           42.01586351,
           50.45594541,
           50.56546324,
           42.66064904,
           33.25729379,
           45.19211627,
           39.43383398,
           48.78415794,
           46.02527191,
           45.35826676,
           43.14964958,
           47.96034564,
           43.60047473,
           50.21399723,
           43.56427309,
           null,
           null
          ],
          [
           null,
           null,
           56.30160387,
           55.79738821,
           54.16617281,
           54.36962287,
           46.98084702,
           54.3596643,
           46.94535407,
           53.01509165,
           51.3828115,
           42.80868756,
           53.87147489,
           53.61230119,
           48.88268156,
           51.0528526,
           51.04834642,
           54.69685425,
           52.32338496,
           55.63793819,
           52.43627958,
           51.56232438,
           null,
           null,
           null,
           null,
           36.01961694,
           45.61816873,
           43.45037678,
           35.14938489,
           47.10561625,
           43.86956171,
           40.06440027,
           46.55500035,
           37.81512605,
           50.37056188,
           38.16914793,
           47.46991924,
           45.19774011,
           46.05590725,
           49.90326239,
           31.64036818,
           49.75195916,
           null,
           null,
           null,
           null,
           null,
           null,
           null,
           39.12493077,
           47.43520881,
           46.0862973,
           50.27557037,
           46.70965029,
           43.42150074,
           51.41554376,
           29.72188264,
           44.43643985,
           46.4502894,
           36.79811012,
           46.97904576,
           45.08196721,
           30.8854272,
           40.19372878,
           35.70423526,
           38.56807118,
           43.86718191,
           41.39072848,
           48.84662665,
           null,
           null
          ]
         ]
        }
       ],
       "layout": {
        "coloraxis": {
         "colorbar": {
          "title": {
           "text": "Units: %"
          }
         },
         "colorscale": [
          [
           0,
           "rgb(247,252,245)"
          ],
          [
           0.125,
           "rgb(229,245,224)"
          ],
          [
           0.25,
           "rgb(199,233,192)"
          ],
          [
           0.375,
           "rgb(161,217,155)"
          ],
          [
           0.5,
           "rgb(116,196,118)"
          ],
          [
           0.625,
           "rgb(65,171,93)"
          ],
          [
           0.75,
           "rgb(35,139,69)"
          ],
          [
           0.875,
           "rgb(0,109,44)"
          ],
          [
           1,
           "rgb(0,68,27)"
          ]
         ]
        },
        "font": {
         "color": "Black",
         "family": "Courier New, monospace",
         "size": 12
        },
        "height": 800,
        "margin": {
         "t": 60
        },
        "plot_bgcolor": "black",
        "template": {
         "data": {
          "bar": [
           {
            "error_x": {
             "color": "#2a3f5f"
            },
            "error_y": {
             "color": "#2a3f5f"
            },
            "marker": {
             "line": {
              "color": "#E5ECF6",
              "width": 0.5
             },
             "pattern": {
              "fillmode": "overlay",
              "size": 10,
              "solidity": 0.2
             }
            },
            "type": "bar"
           }
          ],
          "barpolar": [
           {
            "marker": {
             "line": {
              "color": "#E5ECF6",
              "width": 0.5
             },
             "pattern": {
              "fillmode": "overlay",
              "size": 10,
              "solidity": 0.2
             }
            },
            "type": "barpolar"
           }
          ],
          "carpet": [
           {
            "aaxis": {
             "endlinecolor": "#2a3f5f",
             "gridcolor": "white",
             "linecolor": "white",
             "minorgridcolor": "white",
             "startlinecolor": "#2a3f5f"
            },
            "baxis": {
             "endlinecolor": "#2a3f5f",
             "gridcolor": "white",
             "linecolor": "white",
             "minorgridcolor": "white",
             "startlinecolor": "#2a3f5f"
            },
            "type": "carpet"
           }
          ],
          "choropleth": [
           {
            "colorbar": {
             "outlinewidth": 0,
             "ticks": ""
            },
            "type": "choropleth"
           }
          ],
          "contour": [
           {
            "colorbar": {
             "outlinewidth": 0,
             "ticks": ""
            },
            "colorscale": [
             [
              0,
              "#0d0887"
             ],
             [
              0.1111111111111111,
              "#46039f"
             ],
             [
              0.2222222222222222,
              "#7201a8"
             ],
             [
              0.3333333333333333,
              "#9c179e"
             ],
             [
              0.4444444444444444,
              "#bd3786"
             ],
             [
              0.5555555555555556,
              "#d8576b"
             ],
             [
              0.6666666666666666,
              "#ed7953"
             ],
             [
              0.7777777777777778,
              "#fb9f3a"
             ],
             [
              0.8888888888888888,
              "#fdca26"
             ],
             [
              1,
              "#f0f921"
             ]
            ],
            "type": "contour"
           }
          ],
          "contourcarpet": [
           {
            "colorbar": {
             "outlinewidth": 0,
             "ticks": ""
            },
            "type": "contourcarpet"
           }
          ],
          "heatmap": [
           {
            "colorbar": {
             "outlinewidth": 0,
             "ticks": ""
            },
            "colorscale": [
             [
              0,
              "#0d0887"
             ],
             [
              0.1111111111111111,
              "#46039f"
             ],
             [
              0.2222222222222222,
              "#7201a8"
             ],
             [
              0.3333333333333333,
              "#9c179e"
             ],
             [
              0.4444444444444444,
              "#bd3786"
             ],
             [
              0.5555555555555556,
              "#d8576b"
             ],
             [
              0.6666666666666666,
              "#ed7953"
             ],
             [
              0.7777777777777778,
              "#fb9f3a"
             ],
             [
              0.8888888888888888,
              "#fdca26"
             ],
             [
              1,
              "#f0f921"
             ]
            ],
            "type": "heatmap"
           }
          ],
          "heatmapgl": [
           {
            "colorbar": {
             "outlinewidth": 0,
             "ticks": ""
            },
            "colorscale": [
             [
              0,
              "#0d0887"
             ],
             [
              0.1111111111111111,
              "#46039f"
             ],
             [
              0.2222222222222222,
              "#7201a8"
             ],
             [
              0.3333333333333333,
              "#9c179e"
             ],
             [
              0.4444444444444444,
              "#bd3786"
             ],
             [
              0.5555555555555556,
              "#d8576b"
             ],
             [
              0.6666666666666666,
              "#ed7953"
             ],
             [
              0.7777777777777778,
              "#fb9f3a"
             ],
             [
              0.8888888888888888,
              "#fdca26"
             ],
             [
              1,
              "#f0f921"
             ]
            ],
            "type": "heatmapgl"
           }
          ],
          "histogram": [
           {
            "marker": {
             "pattern": {
              "fillmode": "overlay",
              "size": 10,
              "solidity": 0.2
             }
            },
            "type": "histogram"
           }
          ],
          "histogram2d": [
           {
            "colorbar": {
             "outlinewidth": 0,
             "ticks": ""
            },
            "colorscale": [
             [
              0,
              "#0d0887"
             ],
             [
              0.1111111111111111,
              "#46039f"
             ],
             [
              0.2222222222222222,
              "#7201a8"
             ],
             [
              0.3333333333333333,
              "#9c179e"
             ],
             [
              0.4444444444444444,
              "#bd3786"
             ],
             [
              0.5555555555555556,
              "#d8576b"
             ],
             [
              0.6666666666666666,
              "#ed7953"
             ],
             [
              0.7777777777777778,
              "#fb9f3a"
             ],
             [
              0.8888888888888888,
              "#fdca26"
             ],
             [
              1,
              "#f0f921"
             ]
            ],
            "type": "histogram2d"
           }
          ],
          "histogram2dcontour": [
           {
            "colorbar": {
             "outlinewidth": 0,
             "ticks": ""
            },
            "colorscale": [
             [
              0,
              "#0d0887"
             ],
             [
              0.1111111111111111,
              "#46039f"
             ],
             [
              0.2222222222222222,
              "#7201a8"
             ],
             [
              0.3333333333333333,
              "#9c179e"
             ],
             [
              0.4444444444444444,
              "#bd3786"
             ],
             [
              0.5555555555555556,
              "#d8576b"
             ],
             [
              0.6666666666666666,
              "#ed7953"
             ],
             [
              0.7777777777777778,
              "#fb9f3a"
             ],
             [
              0.8888888888888888,
              "#fdca26"
             ],
             [
              1,
              "#f0f921"
             ]
            ],
            "type": "histogram2dcontour"
           }
          ],
          "mesh3d": [
           {
            "colorbar": {
             "outlinewidth": 0,
             "ticks": ""
            },
            "type": "mesh3d"
           }
          ],
          "parcoords": [
           {
            "line": {
             "colorbar": {
              "outlinewidth": 0,
              "ticks": ""
             }
            },
            "type": "parcoords"
           }
          ],
          "pie": [
           {
            "automargin": true,
            "type": "pie"
           }
          ],
          "scatter": [
           {
            "fillpattern": {
             "fillmode": "overlay",
             "size": 10,
             "solidity": 0.2
            },
            "type": "scatter"
           }
          ],
          "scatter3d": [
           {
            "line": {
             "colorbar": {
              "outlinewidth": 0,
              "ticks": ""
             }
            },
            "marker": {
             "colorbar": {
              "outlinewidth": 0,
              "ticks": ""
             }
            },
            "type": "scatter3d"
           }
          ],
          "scattercarpet": [
           {
            "marker": {
             "colorbar": {
              "outlinewidth": 0,
              "ticks": ""
             }
            },
            "type": "scattercarpet"
           }
          ],
          "scattergeo": [
           {
            "marker": {
             "colorbar": {
              "outlinewidth": 0,
              "ticks": ""
             }
            },
            "type": "scattergeo"
           }
          ],
          "scattergl": [
           {
            "marker": {
             "colorbar": {
              "outlinewidth": 0,
              "ticks": ""
             }
            },
            "type": "scattergl"
           }
          ],
          "scattermapbox": [
           {
            "marker": {
             "colorbar": {
              "outlinewidth": 0,
              "ticks": ""
             }
            },
            "type": "scattermapbox"
           }
          ],
          "scatterpolar": [
           {
            "marker": {
             "colorbar": {
              "outlinewidth": 0,
              "ticks": ""
             }
            },
            "type": "scatterpolar"
           }
          ],
          "scatterpolargl": [
           {
            "marker": {
             "colorbar": {
              "outlinewidth": 0,
              "ticks": ""
             }
            },
            "type": "scatterpolargl"
           }
          ],
          "scatterternary": [
           {
            "marker": {
             "colorbar": {
              "outlinewidth": 0,
              "ticks": ""
             }
            },
            "type": "scatterternary"
           }
          ],
          "surface": [
           {
            "colorbar": {
             "outlinewidth": 0,
             "ticks": ""
            },
            "colorscale": [
             [
              0,
              "#0d0887"
             ],
             [
              0.1111111111111111,
              "#46039f"
             ],
             [
              0.2222222222222222,
              "#7201a8"
             ],
             [
              0.3333333333333333,
              "#9c179e"
             ],
             [
              0.4444444444444444,
              "#bd3786"
             ],
             [
              0.5555555555555556,
              "#d8576b"
             ],
             [
              0.6666666666666666,
              "#ed7953"
             ],
             [
              0.7777777777777778,
              "#fb9f3a"
             ],
             [
              0.8888888888888888,
              "#fdca26"
             ],
             [
              1,
              "#f0f921"
             ]
            ],
            "type": "surface"
           }
          ],
          "table": [
           {
            "cells": {
             "fill": {
              "color": "#EBF0F8"
             },
             "line": {
              "color": "white"
             }
            },
            "header": {
             "fill": {
              "color": "#C8D4E3"
             },
             "line": {
              "color": "white"
             }
            },
            "type": "table"
           }
          ]
         },
         "layout": {
          "annotationdefaults": {
           "arrowcolor": "#2a3f5f",
           "arrowhead": 0,
           "arrowwidth": 1
          },
          "autotypenumbers": "strict",
          "coloraxis": {
           "colorbar": {
            "outlinewidth": 0,
            "ticks": ""
           }
          },
          "colorscale": {
           "diverging": [
            [
             0,
             "#8e0152"
            ],
            [
             0.1,
             "#c51b7d"
            ],
            [
             0.2,
             "#de77ae"
            ],
            [
             0.3,
             "#f1b6da"
            ],
            [
             0.4,
             "#fde0ef"
            ],
            [
             0.5,
             "#f7f7f7"
            ],
            [
             0.6,
             "#e6f5d0"
            ],
            [
             0.7,
             "#b8e186"
            ],
            [
             0.8,
             "#7fbc41"
            ],
            [
             0.9,
             "#4d9221"
            ],
            [
             1,
             "#276419"
            ]
           ],
           "sequential": [
            [
             0,
             "#0d0887"
            ],
            [
             0.1111111111111111,
             "#46039f"
            ],
            [
             0.2222222222222222,
             "#7201a8"
            ],
            [
             0.3333333333333333,
             "#9c179e"
            ],
            [
             0.4444444444444444,
             "#bd3786"
            ],
            [
             0.5555555555555556,
             "#d8576b"
            ],
            [
             0.6666666666666666,
             "#ed7953"
            ],
            [
             0.7777777777777778,
             "#fb9f3a"
            ],
            [
             0.8888888888888888,
             "#fdca26"
            ],
            [
             1,
             "#f0f921"
            ]
           ],
           "sequentialminus": [
            [
             0,
             "#0d0887"
            ],
            [
             0.1111111111111111,
             "#46039f"
            ],
            [
             0.2222222222222222,
             "#7201a8"
            ],
            [
             0.3333333333333333,
             "#9c179e"
            ],
            [
             0.4444444444444444,
             "#bd3786"
            ],
            [
             0.5555555555555556,
             "#d8576b"
            ],
            [
             0.6666666666666666,
             "#ed7953"
            ],
            [
             0.7777777777777778,
             "#fb9f3a"
            ],
            [
             0.8888888888888888,
             "#fdca26"
            ],
            [
             1,
             "#f0f921"
            ]
           ]
          },
          "colorway": [
           "#636efa",
           "#EF553B",
           "#00cc96",
           "#ab63fa",
           "#FFA15A",
           "#19d3f3",
           "#FF6692",
           "#B6E880",
           "#FF97FF",
           "#FECB52"
          ],
          "font": {
           "color": "#2a3f5f"
          },
          "geo": {
           "bgcolor": "white",
           "lakecolor": "white",
           "landcolor": "#E5ECF6",
           "showlakes": true,
           "showland": true,
           "subunitcolor": "white"
          },
          "hoverlabel": {
           "align": "left"
          },
          "hovermode": "closest",
          "mapbox": {
           "style": "light"
          },
          "paper_bgcolor": "white",
          "plot_bgcolor": "#E5ECF6",
          "polar": {
           "angularaxis": {
            "gridcolor": "white",
            "linecolor": "white",
            "ticks": ""
           },
           "bgcolor": "#E5ECF6",
           "radialaxis": {
            "gridcolor": "white",
            "linecolor": "white",
            "ticks": ""
           }
          },
          "scene": {
           "xaxis": {
            "backgroundcolor": "#E5ECF6",
            "gridcolor": "white",
            "gridwidth": 2,
            "linecolor": "white",
            "showbackground": true,
            "ticks": "",
            "zerolinecolor": "white"
           },
           "yaxis": {
            "backgroundcolor": "#E5ECF6",
            "gridcolor": "white",
            "gridwidth": 2,
            "linecolor": "white",
            "showbackground": true,
            "ticks": "",
            "zerolinecolor": "white"
           },
           "zaxis": {
            "backgroundcolor": "#E5ECF6",
            "gridcolor": "white",
            "gridwidth": 2,
            "linecolor": "white",
            "showbackground": true,
            "ticks": "",
            "zerolinecolor": "white"
           }
          },
          "shapedefaults": {
           "line": {
            "color": "#2a3f5f"
           }
          },
          "ternary": {
           "aaxis": {
            "gridcolor": "white",
            "linecolor": "white",
            "ticks": ""
           },
           "baxis": {
            "gridcolor": "white",
            "linecolor": "white",
            "ticks": ""
           },
           "bgcolor": "#E5ECF6",
           "caxis": {
            "gridcolor": "white",
            "linecolor": "white",
            "ticks": ""
           }
          },
          "title": {
           "x": 0.05
          },
          "xaxis": {
           "automargin": true,
           "gridcolor": "white",
           "linecolor": "white",
           "ticks": "",
           "title": {
            "standoff": 15
           },
           "zerolinecolor": "white",
           "zerolinewidth": 2
          },
          "yaxis": {
           "automargin": true,
           "gridcolor": "white",
           "linecolor": "white",
           "ticks": "",
           "title": {
            "standoff": 15
           },
           "zerolinecolor": "white",
           "zerolinewidth": 2
          }
         }
        },
        "title": {
         "text": "Harvest index",
         "x": 0.5,
         "xanchor": "center",
         "y": 0.98,
         "yanchor": "top"
        },
        "xaxis": {
         "anchor": "y",
         "domain": [
          0,
          1
         ],
         "gridcolor": "Black",
         "gridwidth": 7,
         "showgrid": true,
         "tickmode": "array",
         "ticktext": [
          1,
          2,
          3,
          4,
          5,
          6,
          7,
          8,
          9,
          10,
          11,
          12,
          13,
          14,
          15,
          16,
          17,
          18,
          19,
          20,
          21,
          22,
          23,
          24,
          25,
          26,
          27,
          28,
          29,
          30,
          31,
          32,
          33,
          34,
          35,
          36,
          37,
          38,
          39,
          40,
          41,
          42,
          43,
          44,
          45,
          46,
          47,
          48,
          49,
          50,
          51,
          52,
          53,
          54,
          55,
          56,
          57,
          58,
          59,
          60,
          61,
          62,
          63,
          64,
          65,
          66,
          67,
          68,
          69,
          70,
          71,
          72
         ],
         "tickvals": [
          0,
          1,
          2,
          3,
          4,
          5,
          6,
          7,
          8,
          9,
          10,
          11,
          12,
          13,
          14,
          15,
          16,
          17,
          18,
          19,
          20,
          21,
          22,
          23,
          24,
          25,
          26,
          27,
          28,
          29,
          30,
          31,
          32,
          33,
          34,
          35,
          36,
          37,
          38,
          39,
          40,
          41,
          42,
          43,
          44,
          45,
          46,
          47,
          48,
          49,
          50,
          51,
          52,
          53,
          54,
          55,
          56,
          57,
          58,
          59,
          60,
          61,
          62,
          63,
          64,
          65,
          66,
          67,
          68,
          69,
          70,
          71
         ],
         "title": {
          "text": "columns"
         },
         "zeroline": false
        },
        "yaxis": {
         "anchor": "x",
         "autorange": "reversed",
         "domain": [
          0,
          1
         ],
         "gridcolor": "Black",
         "gridwidth": 7,
         "showgrid": true,
         "tickmode": "array",
         "ticktext": [
          6,
          5,
          4,
          3,
          2,
          1
         ],
         "tickvals": [
          0,
          1,
          2,
          3,
          4,
          5
         ],
         "title": {
          "text": "rows"
         },
         "zeroline": false
        }
       }
      },
      "text/html": [
       "<div>                            <div id=\"300a1bd5-45f7-4a32-b538-205a8f2225b6\" class=\"plotly-graph-div\" style=\"height:800px; width:100%;\"></div>            <script type=\"text/javascript\">                require([\"plotly\"], function(Plotly) {                    window.PLOTLYENV=window.PLOTLYENV || {};                                    if (document.getElementById(\"300a1bd5-45f7-4a32-b538-205a8f2225b6\")) {                    Plotly.newPlot(                        \"300a1bd5-45f7-4a32-b538-205a8f2225b6\",                        [{\"coloraxis\":\"coloraxis\",\"name\":\"0\",\"z\":[[null,null,49.86813714,38.11149033,46.60310687,35.82515312,44.23633318,42.82373575,49.19048726,47.49737945,47.5387942,40.57279236,49.4549711,51.23686234,53.90435018,45.36549529,38.37743276,51.81052152,49.14543491,45.62369176,34.81596862,37.39817329,null,null,null,null,56.96897593,54.86232856,47.87761462,53.82384088,51.49466568,56.71222063,54.61736456,52.87603653,42.39690113,52.44505331,50.30869348,50.6192428,53.98088292,55.13671655,56.82965123,50.70684078,54.91020762,56.12685793,50.18127884,53.26199142,null,null,null,null,41.85242978,52.37555211,50.42775918,52.60802864,52.33314071,49.27104395,48.42248224,44.7276104,53.86372288,53.96899709,54.23228894,53.47133581,51.97747871,52.28406257,47.77693571,48.36641015,51.36776251,51.99618171,48.38709677,51.48333654,null,null],[null,null,42.30069863,53.04928989,51.18569392,51.95001207,48.73160225,40.59278351,34.86915367,44.18589011,50.20294098,48.56204289,49.40664321,50.35949848,38.15681292,40.00253984,49.18603033,45.64328606,41.94446055,45.43267785,47.74312208,46.76009034,null,null,null,null,54.28749827,51.07335106,56.08984113,57.36429951,54.79100339,51.00574713,54.62595221,51.73322789,54.57399655,45.95658593,54.82046777,50.69201827,49.73949853,53.01990391,42.60151034,54.43359636,52.25809722,51.24259006,50.24490016,50.55989141,null,null,null,null,54.97461315,54.4329746,51.88009933,52.75802422,51.03359173,51.37085977,50.15329246,55.6066923,52.8823667,55.98982567,47.93644996,54.47807883,54.94963943,52.51521764,52.47796727,51.50192014,43.44548963,55.71462658,57.73323874,55.71364385,null,null],[null,null,44.04605075,54.39053013,51.3270077,46.88320019,54.74085978,56.37903653,51.4822496,50.49663767,53.88177281,56.70759963,50.69099547,49.89320335,53.98955584,51.48365024,52.58296707,42.46761387,51.62778608,47.99378546,56.22273682,51.06783225,null,null,null,null,47.61123866,41.11934434,36.14607229,45.41510945,40.37094625,49.89145894,56.83313491,51.71700455,37.61596137,52.35696294,50.92884131,41.82454095,42.57251362,35.86806402,45.58099722,49.05736874,50.1532252,45.1188553,51.68356771,44.51608701,null,null,null,null,55.65096061,52.60469867,49.21597802,50.01904278,51.88840908,57.48921612,53.43803869,56.394701,54.42606737,52.02262104,55.24793897,43.54675369,44.95480734,57.988949,55.93892632,55.6821058,53.90995261,52.97175776,55.91379603,58.5320048,null,null],[null,null,51.6849425,49.91342767,54.72149029,52.49046382,54.5505361,57.17228267,48.57452361,56.31962163,60.08636341,57.31950969,55.23080632,56.29848327,52.42122335,57.32221879,55.50578096,54.55069728,51.18507312,43.46038502,56.37076194,55.17159903,null,null,null,null,49.76318484,41.80186575,52.23305955,52.25922907,54.24057941,53.8315231,49.38271605,51.77797925,49.02842749,51.88811976,55.59689593,50.13431441,47.37103175,52.41848413,48.32856267,50.50531092,51.59997282,52.38127135,44.62165789,51.90549183,null,null,null,null,40.83029197,47.41558983,49.70033155,40.16885717,50.17590403,40.23608365,38.39571602,41.65463054,48.64540708,47.96102287,44.05453168,38.912362,47.45455765,44.07072587,45.89749759,50.63647629,49.61055568,35.58031774,46.22545269,52.21282944,null,null],[null,null,48.31341135,45.08419337,43.07295153,49.25766616,46.25089691,49.59900963,46.74854265,51.86428234,52.06483762,50.48177629,43.61708921,36.14672365,38.35251431,49.58195606,41.57845213,50.68868483,54.96987952,48.54303746,41.48801256,44.61580832,null,null,null,null,43.6552108,44.34930388,50.5067473,50.52137325,42.08479679,48.84309726,49.75719614,49.54499494,41.85339309,43.22568555,50.11402191,45.48898289,52.10375931,45.31875891,42.03935599,46.68341408,45.43845991,47.71301713,38.37814397,38.90382745,null,null,null,null,47.86330593,45.22704523,42.33994114,49.20362366,39.07442457,42.01586351,50.45594541,50.56546324,42.66064904,33.25729379,45.19211627,39.43383398,48.78415794,46.02527191,45.35826676,43.14964958,47.96034564,43.60047473,50.21399723,43.56427309,null,null],[null,null,56.30160387,55.79738821,54.16617281,54.36962287,46.98084702,54.3596643,46.94535407,53.01509165,51.3828115,42.80868756,53.87147489,53.61230119,48.88268156,51.0528526,51.04834642,54.69685425,52.32338496,55.63793819,52.43627958,51.56232438,null,null,null,null,36.01961694,45.61816873,43.45037678,35.14938489,47.10561625,43.86956171,40.06440027,46.55500035,37.81512605,50.37056188,38.16914793,47.46991924,45.19774011,46.05590725,49.90326239,31.64036818,49.75195916,null,null,null,null,null,null,null,39.12493077,47.43520881,46.0862973,50.27557037,46.70965029,43.42150074,51.41554376,29.72188264,44.43643985,46.4502894,36.79811012,46.97904576,45.08196721,30.8854272,40.19372878,35.70423526,38.56807118,43.86718191,41.39072848,48.84662665,null,null]],\"type\":\"heatmap\",\"xaxis\":\"x\",\"yaxis\":\"y\",\"hovertemplate\":\"Accession: %{customdata[0]}<br>Raw value: %{customdata[1]}<br> (column: %{x}, row:%{y})<extra></extra>\",\"customdata\":[[[\"Discarded\",\"N/A\"],[\"Discarded\",\"N/A\"],[\"KWS Zyatt\",\"49.86813714\"],[\"Robigus\",\"38.11149033\"],[\"Mercia\",\"46.60310687\"],[\"Solstice\",\"35.82515312\"],[\"Crusoe\",\"44.23633318\"],[\"Hereward\",\"42.82373575\"],[\"Malacca\",\"49.19048726\"],[\"Soissons\",\"47.49737945\"],[\"Riband\",\"47.5387942\"],[\"Cadenza\",\"40.57279236\"],[\"Graham\",\"49.4549711\"],[\"KWS Barrel\",\"51.23686234\"],[\"Claire\",\"53.90435018\"],[\"Xi19\",\"45.36549529\"],[\"Avalon\",\"38.37743276\"],[\"Siskin\",\"51.81052152\"],[\"Istabraq\",\"49.14543491\"],[\"Hylux\",\"45.62369176\"],[\"Maris Widgeon\",\"34.81596862\"],[\"Paragon\",\"37.39817329\"],[\"Discarded\",\"N/A\"],[\"Discarded\",\"N/A\"],[\"Discarded\",\"N/A\"],[\"Discarded\",\"N/A\"],[\"Siskin\",\"56.96897593\"],[\"Riband\",\"54.86232856\"],[\"Paragon\",\"47.87761462\"],[\"Xi19\",\"53.82384088\"],[\"Avalon\",\"51.49466568\"],[\"Hylux\",\"56.71222063\"],[\"Graham\",\"54.61736456\"],[\"Solstice\",\"52.87603653\"],[\"Maris Widgeon\",\"42.39690113\"],[\"Claire\",\"52.44505331\"],[\"Hereward\",\"50.30869348\"],[\"Cadenza\",\"50.6192428\"],[\"Crusoe\",\"53.98088292\"],[\"KWS Zyatt\",\"55.13671655\"],[\"KWS Barrel\",\"56.82965123\"],[\"Soissons\",\"50.70684078\"],[\"Malacca\",\"54.91020762\"],[\"Istabraq\",\"56.12685793\"],[\"Mercia\",\"50.18127884\"],[\"Robigus\",\"53.26199142\"],[\"Discarded\",\"N/A\"],[\"Discarded\",\"N/A\"],[\"Discarded\",\"N/A\"],[\"Discarded\",\"N/A\"],[\"Maris Widgeon\",\"41.85242978\"],[\"KWS Zyatt\",\"52.37555211\"],[\"Solstice\",\"50.42775918\"],[\"Robigus\",\"52.60802864\"],[\"Graham\",\"52.33314071\"],[\"Cadenza\",\"49.27104395\"],[\"Avalon\",\"48.42248224\"],[\"Paragon\",\"44.7276104\"],[\"Siskin\",\"53.86372288\"],[\"Istabraq\",\"53.96899709\"],[\"KWS Barrel\",\"54.23228894\"],[\"Hylux\",\"53.47133581\"],[\"Malacca\",\"51.97747871\"],[\"Riband\",\"52.28406257\"],[\"Hereward\",\"47.77693571\"],[\"Mercia\",\"48.36641015\"],[\"Crusoe\",\"51.36776251\"],[\"Claire\",\"51.99618171\"],[\"Soissons\",\"48.38709677\"],[\"Xi19\",\"51.48333654\"],[\"Discarded\",\"N/A\"],[\"Discarded\",\"N/A\"]],[[\"Discarded\",\"N/A\"],[\"Discarded\",\"N/A\"],[\"Claire\",\"42.30069863\"],[\"Hylux\",\"53.04928989\"],[\"Graham\",\"51.18569392\"],[\"KWS Barrel\",\"51.95001207\"],[\"Xi19\",\"48.73160225\"],[\"Maris Widgeon\",\"40.59278351\"],[\"Robigus\",\"34.86915367\"],[\"Avalon\",\"44.18589011\"],[\"Istabraq\",\"50.20294098\"],[\"Soissons\",\"48.56204289\"],[\"Riband\",\"49.40664321\"],[\"Siskin\",\"50.35949848\"],[\"Solstice\",\"38.15681292\"],[\"Cadenza\",\"40.00253984\"],[\"KWS Zyatt\",\"49.18603033\"],[\"Crusoe\",\"45.64328606\"],[\"Paragon\",\"41.94446055\"],[\"Mercia\",\"45.43267785\"],[\"Malacca\",\"47.74312208\"],[\"Hereward\",\"46.76009034\"],[\"Discarded\",\"N/A\"],[\"Discarded\",\"N/A\"],[\"Discarded\",\"N/A\"],[\"Discarded\",\"N/A\"],[\"Malacca\",\"54.28749827\"],[\"Claire\",\"51.07335106\"],[\"KWS Barrel\",\"56.08984113\"],[\"Hylux\",\"57.36429951\"],[\"Riband\",\"54.79100339\"],[\"Soissons\",\"51.00574713\"],[\"KWS Zyatt\",\"54.62595221\"],[\"Hereward\",\"51.73322789\"],[\"Crusoe\",\"54.57399655\"],[\"Paragon\",\"45.95658593\"],[\"Siskin\",\"54.82046777\"],[\"Mercia\",\"50.69201827\"],[\"Robigus\",\"49.73949853\"],[\"Istabraq\",\"53.01990391\"],[\"Maris Widgeon\",\"42.60151034\"],[\"Graham\",\"54.43359636\"],[\"Xi19\",\"52.25809722\"],[\"Solstice\",\"51.24259006\"],[\"Avalon\",\"50.24490016\"],[\"Cadenza\",\"50.55989141\"],[\"Discarded\",\"N/A\"],[\"Discarded\",\"N/A\"],[\"Discarded\",\"N/A\"],[\"Discarded\",\"N/A\"],[\"KWS Barrel\",\"54.97461315\"],[\"Graham\",\"54.4329746\"],[\"Istabraq\",\"51.88009933\"],[\"Crusoe\",\"52.75802422\"],[\"Soissons\",\"51.03359173\"],[\"Robigus\",\"51.37085977\"],[\"Mercia\",\"50.15329246\"],[\"Claire\",\"55.6066923\"],[\"Hereward\",\"52.8823667\"],[\"KWS Zyatt\",\"55.98982567\"],[\"Paragon\",\"47.93644996\"],[\"Xi19\",\"54.47807883\"],[\"Siskin\",\"54.94963943\"],[\"Avalon\",\"52.51521764\"],[\"Solstice\",\"52.47796727\"],[\"Cadenza\",\"51.50192014\"],[\"Maris Widgeon\",\"43.44548963\"],[\"Riband\",\"55.71462658\"],[\"Hylux\",\"57.73323874\"],[\"Malacca\",\"55.71364385\"],[\"Discarded\",\"N/A\"],[\"Discarded\",\"N/A\"]],[[\"Discarded\",\"N/A\"],[\"Discarded\",\"N/A\"],[\"Riband\",\"44.04605075\"],[\"Xi19\",\"54.39053013\"],[\"Soissons\",\"51.3270077\"],[\"Paragon\",\"46.88320019\"],[\"Malacca\",\"54.74085978\"],[\"KWS Barrel\",\"56.37903653\"],[\"Crusoe\",\"51.4822496\"],[\"Mercia\",\"50.49663767\"],[\"KWS Zyatt\",\"53.88177281\"],[\"Hylux\",\"56.70759963\"],[\"Avalon\",\"50.69099547\"],[\"Hereward\",\"49.89320335\"],[\"Istabraq\",\"53.98955584\"],[\"Robigus\",\"51.48365024\"],[\"Graham\",\"52.58296707\"],[\"Maris Widgeon\",\"42.46761387\"],[\"Claire\",\"51.62778608\"],[\"Cadenza\",\"47.99378546\"],[\"Siskin\",\"56.22273682\"],[\"Solstice\",\"51.06783225\"],[\"Discarded\",\"N/A\"],[\"Discarded\",\"N/A\"],[\"Discarded\",\"N/A\"],[\"Discarded\",\"N/A\"],[\"Xi19\",\"47.61123866\"],[\"Paragon\",\"41.11934434\"],[\"Maris Widgeon\",\"36.14607229\"],[\"Soissons\",\"45.41510945\"],[\"Claire\",\"40.37094625\"],[\"Graham\",\"49.89145894\"],[\"Istabraq\",\"56.83313491\"],[\"Siskin\",\"51.71700455\"],[\"Robigus\",\"37.61596137\"],[\"KWS Barrel\",\"52.35696294\"],[\"Malacca\",\"50.92884131\"],[\"Avalon\",\"41.82454095\"],[\"Cadenza\",\"42.57251362\"],[\"Solstice\",\"35.86806402\"],[\"Crusoe\",\"45.58099722\"],[\"KWS Zyatt\",\"49.05736874\"],[\"Hylux\",\"50.1532252\"],[\"Hereward\",\"45.1188553\"],[\"Riband\",\"51.68356771\"],[\"Mercia\",\"44.51608701\"],[\"Discarded\",\"N/A\"],[\"Discarded\",\"N/A\"],[\"Discarded\",\"N/A\"],[\"Discarded\",\"N/A\"],[\"Istabraq\",\"55.65096061\"],[\"Cadenza\",\"52.60469867\"],[\"Avalon\",\"49.21597802\"],[\"Hereward\",\"50.01904278\"],[\"Robigus\",\"51.88840908\"],[\"Siskin\",\"57.48921612\"],[\"Xi19\",\"53.43803869\"],[\"Graham\",\"56.394701\"],[\"Claire\",\"54.42606737\"],[\"Mercia\",\"52.02262104\"],[\"KWS Zyatt\",\"55.24793897\"],[\"Maris Widgeon\",\"43.54675369\"],[\"Paragon\",\"44.95480734\"],[\"Hylux\",\"57.988949\"],[\"Riband\",\"55.93892632\"],[\"Malacca\",\"55.6821058\"],[\"Solstice\",\"53.90995261\"],[\"Soissons\",\"52.97175776\"],[\"Crusoe\",\"55.91379603\"],[\"KWS Barrel\",\"58.5320048\"],[\"Discarded\",\"N/A\"],[\"Discarded\",\"N/A\"]],[[\"Discarded\",\"N/A\"],[\"Discarded\",\"N/A\"],[\"Cadenza\",\"51.6849425\"],[\"Hereward\",\"49.91342767\"],[\"Malacca\",\"54.72149029\"],[\"Avalon\",\"52.49046382\"],[\"Solstice\",\"54.5505361\"],[\"Riband\",\"57.17228267\"],[\"Paragon\",\"48.57452361\"],[\"Crusoe\",\"56.31962163\"],[\"Hylux\",\"60.08636341\"],[\"Siskin\",\"57.31950969\"],[\"Robigus\",\"55.23080632\"],[\"KWS Zyatt\",\"56.29848327\"],[\"Soissons\",\"52.42122335\"],[\"KWS Barrel\",\"57.32221879\"],[\"Xi19\",\"55.50578096\"],[\"Claire\",\"54.55069728\"],[\"Mercia\",\"51.18507312\"],[\"Maris Widgeon\",\"43.46038502\"],[\"Istabraq\",\"56.37076194\"],[\"Graham\",\"55.17159903\"],[\"Discarded\",\"N/A\"],[\"Discarded\",\"N/A\"],[\"Discarded\",\"N/A\"],[\"Discarded\",\"N/A\"],[\"Soissons\",\"49.76318484\"],[\"Maris Widgeon\",\"41.80186575\"],[\"Robigus\",\"52.23305955\"],[\"KWS Zyatt\",\"52.25922907\"],[\"KWS Barrel\",\"54.24057941\"],[\"Istabraq\",\"53.8315231\"],[\"Hereward\",\"49.38271605\"],[\"Xi19\",\"51.77797925\"],[\"Mercia\",\"49.02842749\"],[\"Crusoe\",\"51.88811976\"],[\"Hylux\",\"55.59689593\"],[\"Claire\",\"50.13431441\"],[\"Avalon\",\"47.37103175\"],[\"Siskin\",\"52.41848413\"],[\"Cadenza\",\"48.32856267\"],[\"Solstice\",\"50.50531092\"],[\"Graham\",\"51.59997282\"],[\"Malacca\",\"52.38127135\"],[\"Paragon\",\"44.62165789\"],[\"Riband\",\"51.90549183\"],[\"Discarded\",\"N/A\"],[\"Discarded\",\"N/A\"],[\"Discarded\",\"N/A\"],[\"Discarded\",\"N/A\"],[\"Avalon\",\"40.83029197\"],[\"Malacca\",\"47.41558983\"],[\"Hylux\",\"49.70033155\"],[\"Claire\",\"40.16885717\"],[\"Siskin\",\"50.17590403\"],[\"Paragon\",\"40.23608365\"],[\"Maris Widgeon\",\"38.39571602\"],[\"Cadenza\",\"41.65463054\"],[\"Graham\",\"48.64540708\"],[\"Xi19\",\"47.96102287\"],[\"Mercia\",\"44.05453168\"],[\"Solstice\",\"38.912362\"],[\"KWS Zyatt\",\"47.45455765\"],[\"Crusoe\",\"44.07072587\"],[\"Soissons\",\"45.89749759\"],[\"KWS Barrel\",\"50.63647629\"],[\"Riband\",\"49.61055568\"],[\"Robigus\",\"35.58031774\"],[\"Hereward\",\"46.22545269\"],[\"Istabraq\",\"52.21282944\"],[\"Discarded\",\"N/A\"],[\"Discarded\",\"N/A\"]],[[\"Discarded\",\"N/A\"],[\"Discarded\",\"N/A\"],[\"Hereward\",\"48.31341135\"],[\"Avalon\",\"45.08419337\"],[\"Claire\",\"43.07295153\"],[\"Malacca\",\"49.25766616\"],[\"Mercia\",\"46.25089691\"],[\"Xi19\",\"49.59900963\"],[\"Soissons\",\"46.74854265\"],[\"Istabraq\",\"51.86428234\"],[\"KWS Barrel\",\"52.06483762\"],[\"Riband\",\"50.48177629\"],[\"Solstice\",\"43.61708921\"],[\"Robigus\",\"36.14672365\"],[\"Maris Widgeon\",\"38.35251431\"],[\"Graham\",\"49.58195606\"],[\"Paragon\",\"41.57845213\"],[\"Hylux\",\"50.68868483\"],[\"Siskin\",\"54.96987952\"],[\"KWS Zyatt\",\"48.54303746\"],[\"Cadenza\",\"41.48801256\"],[\"Crusoe\",\"44.61580832\"],[\"Discarded\",\"N/A\"],[\"Discarded\",\"N/A\"],[\"Discarded\",\"N/A\"],[\"Discarded\",\"N/A\"],[\"Solstice\",\"43.6552108\"],[\"Mercia\",\"44.34930388\"],[\"Riband\",\"50.5067473\"],[\"Siskin\",\"50.52137325\"],[\"Cadenza\",\"42.08479679\"],[\"Malacca\",\"48.84309726\"],[\"Hylux\",\"49.75719614\"],[\"KWS Zyatt\",\"49.54499494\"],[\"Paragon\",\"41.85339309\"],[\"Avalon\",\"43.22568555\"],[\"Istabraq\",\"50.11402191\"],[\"Crusoe\",\"45.48898289\"],[\"KWS Barrel\",\"52.10375931\"],[\"Soissons\",\"45.31875891\"],[\"Claire\",\"42.03935599\"],[\"Xi19\",\"46.68341408\"],[\"Hereward\",\"45.43845991\"],[\"Graham\",\"47.71301713\"],[\"Robigus\",\"38.37814397\"],[\"Maris Widgeon\",\"38.90382745\"],[\"Discarded\",\"N/A\"],[\"Discarded\",\"N/A\"],[\"Discarded\",\"N/A\"],[\"Discarded\",\"N/A\"],[\"Graham\",\"47.86330593\"],[\"Crusoe\",\"45.22704523\"],[\"Cadenza\",\"42.33994114\"],[\"Istabraq\",\"49.20362366\"],[\"Maris Widgeon\",\"39.07442457\"],[\"Solstice\",\"42.01586351\"],[\"Siskin\",\"50.45594541\"],[\"Hylux\",\"50.56546324\"],[\"Avalon\",\"42.66064904\"],[\"Robigus\",\"33.25729379\"],[\"Soissons\",\"45.19211627\"],[\"Paragon\",\"39.43383398\"],[\"Riband\",\"48.78415794\"],[\"Malacca\",\"46.02527191\"],[\"Mercia\",\"45.35826676\"],[\"Hereward\",\"43.14964958\"],[\"KWS Zyatt\",\"47.96034564\"],[\"Xi19\",\"43.60047473\"],[\"KWS Barrel\",\"50.21399723\"],[\"Claire\",\"43.56427309\"],[\"Discarded\",\"N/A\"],[\"Discarded\",\"N/A\"]],[[\"Discarded\",\"N/A\"],[\"Discarded\",\"N/A\"],[\"Hylux\",\"56.30160387\"],[\"KWS Barrel\",\"55.79738821\"],[\"Crusoe\",\"54.16617281\"],[\"Graham\",\"54.36962287\"],[\"Paragon\",\"46.98084702\"],[\"KWS Zyatt\",\"54.3596643\"],[\"Solstice\",\"46.94535407\"],[\"Malacca\",\"53.01509165\"],[\"Cadenza\",\"51.3828115\"],[\"Maris Widgeon\",\"42.80868756\"],[\"Xi19\",\"53.87147489\"],[\"Riband\",\"53.61230119\"],[\"Mercia\",\"48.88268156\"],[\"Hereward\",\"51.0528526\"],[\"Robigus\",\"51.04834642\"],[\"Istabraq\",\"54.69685425\"],[\"Soissons\",\"52.32338496\"],[\"Siskin\",\"55.63793819\"],[\"Claire\",\"52.43627958\"],[\"Avalon\",\"51.56232438\"],[\"Discarded\",\"N/A\"],[\"Discarded\",\"N/A\"],[\"Discarded\",\"N/A\"],[\"Discarded\",\"N/A\"],[\"Paragon\",\"36.01961694\"],[\"Soissons\",\"45.61816873\"],[\"KWS Zyatt\",\"43.45037678\"],[\"Maris Widgeon\",\"35.14938489\"],[\"Hylux\",\"47.10561625\"],[\"Crusoe\",\"43.86956171\"],[\"Cadenza\",\"40.06440027\"],[\"Riband\",\"46.55500035\"],[\"Solstice\",\"37.81512605\"],[\"Graham\",\"50.37056188\"],[\"Claire\",\"38.16914793\"],[\"Malacca\",\"47.46991924\"],[\"Hereward\",\"45.19774011\"],[\"Mercia\",\"46.05590725\"],[\"Istabraq\",\"49.90326239\"],[\"Robigus\",\"31.64036818\"],[\"KWS Barrel\",\"49.75195916\"],[\"Avalon\",\"N/A\"],[\"Xi19\",\"N/A\"],[\"Siskin\",\"N/A\"],[\"Discarded\",\"N/A\"],[\"Discarded\",\"N/A\"],[\"Discarded\",\"N/A\"],[\"Discarded\",\"N/A\"],[\"Mercia\",\"39.12493077\"],[\"Siskin\",\"47.43520881\"],[\"Xi19\",\"46.0862973\"],[\"Riband\",\"50.27557037\"],[\"Hereward\",\"46.70965029\"],[\"Claire\",\"43.42150074\"],[\"KWS Barrel\",\"51.41554376\"],[\"Robigus\",\"29.72188264\"],[\"Soissons\",\"44.43643985\"],[\"Malacca\",\"46.4502894\"],[\"Cadenza\",\"36.79811012\"],[\"Istabraq\",\"46.97904576\"],[\"Graham\",\"45.08196721\"],[\"Maris Widgeon\",\"30.8854272\"],[\"Hylux\",\"40.19372878\"],[\"Paragon\",\"35.70423526\"],[\"Avalon\",\"38.56807118\"],[\"Crusoe\",\"43.86718191\"],[\"Solstice\",\"41.39072848\"],[\"KWS Zyatt\",\"48.84662665\"],[\"Discarded\",\"N/A\"],[\"Discarded\",\"N/A\"]]]}],                        {\"template\":{\"data\":{\"histogram2dcontour\":[{\"type\":\"histogram2dcontour\",\"colorbar\":{\"outlinewidth\":0,\"ticks\":\"\"},\"colorscale\":[[0.0,\"#0d0887\"],[0.1111111111111111,\"#46039f\"],[0.2222222222222222,\"#7201a8\"],[0.3333333333333333,\"#9c179e\"],[0.4444444444444444,\"#bd3786\"],[0.5555555555555556,\"#d8576b\"],[0.6666666666666666,\"#ed7953\"],[0.7777777777777778,\"#fb9f3a\"],[0.8888888888888888,\"#fdca26\"],[1.0,\"#f0f921\"]]}],\"choropleth\":[{\"type\":\"choropleth\",\"colorbar\":{\"outlinewidth\":0,\"ticks\":\"\"}}],\"histogram2d\":[{\"type\":\"histogram2d\",\"colorbar\":{\"outlinewidth\":0,\"ticks\":\"\"},\"colorscale\":[[0.0,\"#0d0887\"],[0.1111111111111111,\"#46039f\"],[0.2222222222222222,\"#7201a8\"],[0.3333333333333333,\"#9c179e\"],[0.4444444444444444,\"#bd3786\"],[0.5555555555555556,\"#d8576b\"],[0.6666666666666666,\"#ed7953\"],[0.7777777777777778,\"#fb9f3a\"],[0.8888888888888888,\"#fdca26\"],[1.0,\"#f0f921\"]]}],\"heatmap\":[{\"type\":\"heatmap\",\"colorbar\":{\"outlinewidth\":0,\"ticks\":\"\"},\"colorscale\":[[0.0,\"#0d0887\"],[0.1111111111111111,\"#46039f\"],[0.2222222222222222,\"#7201a8\"],[0.3333333333333333,\"#9c179e\"],[0.4444444444444444,\"#bd3786\"],[0.5555555555555556,\"#d8576b\"],[0.6666666666666666,\"#ed7953\"],[0.7777777777777778,\"#fb9f3a\"],[0.8888888888888888,\"#fdca26\"],[1.0,\"#f0f921\"]]}],\"heatmapgl\":[{\"type\":\"heatmapgl\",\"colorbar\":{\"outlinewidth\":0,\"ticks\":\"\"},\"colorscale\":[[0.0,\"#0d0887\"],[0.1111111111111111,\"#46039f\"],[0.2222222222222222,\"#7201a8\"],[0.3333333333333333,\"#9c179e\"],[0.4444444444444444,\"#bd3786\"],[0.5555555555555556,\"#d8576b\"],[0.6666666666666666,\"#ed7953\"],[0.7777777777777778,\"#fb9f3a\"],[0.8888888888888888,\"#fdca26\"],[1.0,\"#f0f921\"]]}],\"contourcarpet\":[{\"type\":\"contourcarpet\",\"colorbar\":{\"outlinewidth\":0,\"ticks\":\"\"}}],\"contour\":[{\"type\":\"contour\",\"colorbar\":{\"outlinewidth\":0,\"ticks\":\"\"},\"colorscale\":[[0.0,\"#0d0887\"],[0.1111111111111111,\"#46039f\"],[0.2222222222222222,\"#7201a8\"],[0.3333333333333333,\"#9c179e\"],[0.4444444444444444,\"#bd3786\"],[0.5555555555555556,\"#d8576b\"],[0.6666666666666666,\"#ed7953\"],[0.7777777777777778,\"#fb9f3a\"],[0.8888888888888888,\"#fdca26\"],[1.0,\"#f0f921\"]]}],\"surface\":[{\"type\":\"surface\",\"colorbar\":{\"outlinewidth\":0,\"ticks\":\"\"},\"colorscale\":[[0.0,\"#0d0887\"],[0.1111111111111111,\"#46039f\"],[0.2222222222222222,\"#7201a8\"],[0.3333333333333333,\"#9c179e\"],[0.4444444444444444,\"#bd3786\"],[0.5555555555555556,\"#d8576b\"],[0.6666666666666666,\"#ed7953\"],[0.7777777777777778,\"#fb9f3a\"],[0.8888888888888888,\"#fdca26\"],[1.0,\"#f0f921\"]]}],\"mesh3d\":[{\"type\":\"mesh3d\",\"colorbar\":{\"outlinewidth\":0,\"ticks\":\"\"}}],\"scatter\":[{\"fillpattern\":{\"fillmode\":\"overlay\",\"size\":10,\"solidity\":0.2},\"type\":\"scatter\"}],\"parcoords\":[{\"type\":\"parcoords\",\"line\":{\"colorbar\":{\"outlinewidth\":0,\"ticks\":\"\"}}}],\"scatterpolargl\":[{\"type\":\"scatterpolargl\",\"marker\":{\"colorbar\":{\"outlinewidth\":0,\"ticks\":\"\"}}}],\"bar\":[{\"error_x\":{\"color\":\"#2a3f5f\"},\"error_y\":{\"color\":\"#2a3f5f\"},\"marker\":{\"line\":{\"color\":\"#E5ECF6\",\"width\":0.5},\"pattern\":{\"fillmode\":\"overlay\",\"size\":10,\"solidity\":0.2}},\"type\":\"bar\"}],\"scattergeo\":[{\"type\":\"scattergeo\",\"marker\":{\"colorbar\":{\"outlinewidth\":0,\"ticks\":\"\"}}}],\"scatterpolar\":[{\"type\":\"scatterpolar\",\"marker\":{\"colorbar\":{\"outlinewidth\":0,\"ticks\":\"\"}}}],\"histogram\":[{\"marker\":{\"pattern\":{\"fillmode\":\"overlay\",\"size\":10,\"solidity\":0.2}},\"type\":\"histogram\"}],\"scattergl\":[{\"type\":\"scattergl\",\"marker\":{\"colorbar\":{\"outlinewidth\":0,\"ticks\":\"\"}}}],\"scatter3d\":[{\"type\":\"scatter3d\",\"line\":{\"colorbar\":{\"outlinewidth\":0,\"ticks\":\"\"}},\"marker\":{\"colorbar\":{\"outlinewidth\":0,\"ticks\":\"\"}}}],\"scattermapbox\":[{\"type\":\"scattermapbox\",\"marker\":{\"colorbar\":{\"outlinewidth\":0,\"ticks\":\"\"}}}],\"scatterternary\":[{\"type\":\"scatterternary\",\"marker\":{\"colorbar\":{\"outlinewidth\":0,\"ticks\":\"\"}}}],\"scattercarpet\":[{\"type\":\"scattercarpet\",\"marker\":{\"colorbar\":{\"outlinewidth\":0,\"ticks\":\"\"}}}],\"carpet\":[{\"aaxis\":{\"endlinecolor\":\"#2a3f5f\",\"gridcolor\":\"white\",\"linecolor\":\"white\",\"minorgridcolor\":\"white\",\"startlinecolor\":\"#2a3f5f\"},\"baxis\":{\"endlinecolor\":\"#2a3f5f\",\"gridcolor\":\"white\",\"linecolor\":\"white\",\"minorgridcolor\":\"white\",\"startlinecolor\":\"#2a3f5f\"},\"type\":\"carpet\"}],\"table\":[{\"cells\":{\"fill\":{\"color\":\"#EBF0F8\"},\"line\":{\"color\":\"white\"}},\"header\":{\"fill\":{\"color\":\"#C8D4E3\"},\"line\":{\"color\":\"white\"}},\"type\":\"table\"}],\"barpolar\":[{\"marker\":{\"line\":{\"color\":\"#E5ECF6\",\"width\":0.5},\"pattern\":{\"fillmode\":\"overlay\",\"size\":10,\"solidity\":0.2}},\"type\":\"barpolar\"}],\"pie\":[{\"automargin\":true,\"type\":\"pie\"}]},\"layout\":{\"autotypenumbers\":\"strict\",\"colorway\":[\"#636efa\",\"#EF553B\",\"#00cc96\",\"#ab63fa\",\"#FFA15A\",\"#19d3f3\",\"#FF6692\",\"#B6E880\",\"#FF97FF\",\"#FECB52\"],\"font\":{\"color\":\"#2a3f5f\"},\"hovermode\":\"closest\",\"hoverlabel\":{\"align\":\"left\"},\"paper_bgcolor\":\"white\",\"plot_bgcolor\":\"#E5ECF6\",\"polar\":{\"bgcolor\":\"#E5ECF6\",\"angularaxis\":{\"gridcolor\":\"white\",\"linecolor\":\"white\",\"ticks\":\"\"},\"radialaxis\":{\"gridcolor\":\"white\",\"linecolor\":\"white\",\"ticks\":\"\"}},\"ternary\":{\"bgcolor\":\"#E5ECF6\",\"aaxis\":{\"gridcolor\":\"white\",\"linecolor\":\"white\",\"ticks\":\"\"},\"baxis\":{\"gridcolor\":\"white\",\"linecolor\":\"white\",\"ticks\":\"\"},\"caxis\":{\"gridcolor\":\"white\",\"linecolor\":\"white\",\"ticks\":\"\"}},\"coloraxis\":{\"colorbar\":{\"outlinewidth\":0,\"ticks\":\"\"}},\"colorscale\":{\"sequential\":[[0.0,\"#0d0887\"],[0.1111111111111111,\"#46039f\"],[0.2222222222222222,\"#7201a8\"],[0.3333333333333333,\"#9c179e\"],[0.4444444444444444,\"#bd3786\"],[0.5555555555555556,\"#d8576b\"],[0.6666666666666666,\"#ed7953\"],[0.7777777777777778,\"#fb9f3a\"],[0.8888888888888888,\"#fdca26\"],[1.0,\"#f0f921\"]],\"sequentialminus\":[[0.0,\"#0d0887\"],[0.1111111111111111,\"#46039f\"],[0.2222222222222222,\"#7201a8\"],[0.3333333333333333,\"#9c179e\"],[0.4444444444444444,\"#bd3786\"],[0.5555555555555556,\"#d8576b\"],[0.6666666666666666,\"#ed7953\"],[0.7777777777777778,\"#fb9f3a\"],[0.8888888888888888,\"#fdca26\"],[1.0,\"#f0f921\"]],\"diverging\":[[0,\"#8e0152\"],[0.1,\"#c51b7d\"],[0.2,\"#de77ae\"],[0.3,\"#f1b6da\"],[0.4,\"#fde0ef\"],[0.5,\"#f7f7f7\"],[0.6,\"#e6f5d0\"],[0.7,\"#b8e186\"],[0.8,\"#7fbc41\"],[0.9,\"#4d9221\"],[1,\"#276419\"]]},\"xaxis\":{\"gridcolor\":\"white\",\"linecolor\":\"white\",\"ticks\":\"\",\"title\":{\"standoff\":15},\"zerolinecolor\":\"white\",\"automargin\":true,\"zerolinewidth\":2},\"yaxis\":{\"gridcolor\":\"white\",\"linecolor\":\"white\",\"ticks\":\"\",\"title\":{\"standoff\":15},\"zerolinecolor\":\"white\",\"automargin\":true,\"zerolinewidth\":2},\"scene\":{\"xaxis\":{\"backgroundcolor\":\"#E5ECF6\",\"gridcolor\":\"white\",\"linecolor\":\"white\",\"showbackground\":true,\"ticks\":\"\",\"zerolinecolor\":\"white\",\"gridwidth\":2},\"yaxis\":{\"backgroundcolor\":\"#E5ECF6\",\"gridcolor\":\"white\",\"linecolor\":\"white\",\"showbackground\":true,\"ticks\":\"\",\"zerolinecolor\":\"white\",\"gridwidth\":2},\"zaxis\":{\"backgroundcolor\":\"#E5ECF6\",\"gridcolor\":\"white\",\"linecolor\":\"white\",\"showbackground\":true,\"ticks\":\"\",\"zerolinecolor\":\"white\",\"gridwidth\":2}},\"shapedefaults\":{\"line\":{\"color\":\"#2a3f5f\"}},\"annotationdefaults\":{\"arrowcolor\":\"#2a3f5f\",\"arrowhead\":0,\"arrowwidth\":1},\"geo\":{\"bgcolor\":\"white\",\"landcolor\":\"#E5ECF6\",\"subunitcolor\":\"white\",\"showland\":true,\"showlakes\":true,\"lakecolor\":\"white\"},\"title\":{\"x\":0.05},\"mapbox\":{\"style\":\"light\"}}},\"xaxis\":{\"anchor\":\"y\",\"domain\":[0.0,1.0],\"title\":{\"text\":\"columns\"},\"tickmode\":\"array\",\"tickvals\":[0,1,2,3,4,5,6,7,8,9,10,11,12,13,14,15,16,17,18,19,20,21,22,23,24,25,26,27,28,29,30,31,32,33,34,35,36,37,38,39,40,41,42,43,44,45,46,47,48,49,50,51,52,53,54,55,56,57,58,59,60,61,62,63,64,65,66,67,68,69,70,71],\"ticktext\":[1,2,3,4,5,6,7,8,9,10,11,12,13,14,15,16,17,18,19,20,21,22,23,24,25,26,27,28,29,30,31,32,33,34,35,36,37,38,39,40,41,42,43,44,45,46,47,48,49,50,51,52,53,54,55,56,57,58,59,60,61,62,63,64,65,66,67,68,69,70,71,72],\"showgrid\":true,\"gridwidth\":7,\"gridcolor\":\"Black\",\"zeroline\":false},\"yaxis\":{\"anchor\":\"x\",\"domain\":[0.0,1.0],\"autorange\":\"reversed\",\"title\":{\"text\":\"rows\"},\"tickmode\":\"array\",\"tickvals\":[0,1,2,3,4,5],\"ticktext\":[6,5,4,3,2,1],\"showgrid\":true,\"gridwidth\":7,\"gridcolor\":\"Black\",\"zeroline\":false},\"coloraxis\":{\"colorbar\":{\"title\":{\"text\":\"Units: %\"}},\"colorscale\":[[0.0,\"rgb(247,252,245)\"],[0.125,\"rgb(229,245,224)\"],[0.25,\"rgb(199,233,192)\"],[0.375,\"rgb(161,217,155)\"],[0.5,\"rgb(116,196,118)\"],[0.625,\"rgb(65,171,93)\"],[0.75,\"rgb(35,139,69)\"],[0.875,\"rgb(0,109,44)\"],[1.0,\"rgb(0,68,27)\"]]},\"margin\":{\"t\":60},\"height\":800,\"font\":{\"family\":\"Courier New, monospace\",\"size\":12,\"color\":\"Black\"},\"title\":{\"text\":\"Harvest index\",\"y\":0.98,\"x\":0.5,\"xanchor\":\"center\",\"yanchor\":\"top\"},\"plot_bgcolor\":\"black\"},                        {\"responsive\": true}                    ).then(function(){\n",
       "                            \n",
       "var gd = document.getElementById('300a1bd5-45f7-4a32-b538-205a8f2225b6');\n",
       "var x = new MutationObserver(function (mutations, observer) {{\n",
       "        var display = window.getComputedStyle(gd).display;\n",
       "        if (!display || display === 'none') {{\n",
       "            console.log([gd, 'removed!']);\n",
       "            Plotly.purge(gd);\n",
       "            observer.disconnect();\n",
       "        }}\n",
       "}});\n",
       "\n",
       "// Listen for the removal of the full notebook cells\n",
       "var notebookContainer = gd.closest('#notebook-container');\n",
       "if (notebookContainer) {{\n",
       "    x.observe(notebookContainer, {childList: true});\n",
       "}}\n",
       "\n",
       "// Listen for the clearing of the current output cell\n",
       "var outputEl = gd.closest('.output');\n",
       "if (outputEl) {{\n",
       "    x.observe(outputEl, {childList: true});\n",
       "}}\n",
       "\n",
       "                        })                };                });            </script>        </div>"
      ]
     },
     "metadata": {},
     "output_type": "display_data"
    }
   ],
   "source": [
    "import json\n",
    "import nbimporter\n",
    "from src.grassroots_requests import get_plot\n",
    "from src.grassroots_plots    import dict_phenotypes\n",
    "\n",
    "from src.grassroots_plots    import create_matrices\n",
    "from src.grassroots_plots    import plotly_plot\n",
    "\n",
    "json_study   = get_plot(\"603e3e9502700f7faf25dfb4\") \n",
    "#json_study   = get_plot(\"60955bb402700f084b013da4\") \n",
    "single_study = json.loads(json_study)   \n",
    "\n",
    "\n",
    "plots      = single_study['results'][0]['results'][0]['data']['plots']\n",
    "phenotypes = single_study['results'][0]['results'][0]['data']['phenotypes']\n",
    "total_rows = single_study['results'][0]['results'][0]['data']['num_rows']\n",
    "total_cols = single_study['results'][0]['results'][0]['data']['num_columns']\n",
    "traits     = dict_phenotypes(phenotypes, plots)\n",
    "\n",
    "phenotype_selected = \"HI_CalcGbSamp_%\" \n",
    "#phenotype_selected = \"GrnYld85_Fh_tha\" \n",
    "phenotype_selected = list(phenotypes.keys())[0]\n",
    "title = traits[phenotype_selected]\n",
    "print(phenotype_selected, title)\n",
    "print(\"\\n\")\n",
    "\n",
    "matrices  = create_matrices(plots, phenotypes, phenotype_selected, total_rows, total_cols)\n",
    "\n",
    "rows       = matrices[0] \n",
    "columns    = matrices[1]\n",
    "raw_values = matrices[2]\n",
    "title      = matrices[3]\n",
    "units      = matrices[4]\n",
    "accession  = matrices[5]\n",
    "\n",
    "accession   = accession.reshape(rows,columns)\n",
    "#print(matrix)\n",
    "#print(accession)\n",
    "\n",
    "colormap = \"Greens\"\n",
    "#colormap = \"Hot\"\n",
    "#colormap = \"Electric\"\n",
    "#colormap = \"Rainbow\"\n",
    "plotly_plot(raw_values, accession, title, units, colormap)\n"
   ]
  },
  {
   "cell_type": "markdown",
   "id": "3a2b4a22",
   "metadata": {},
   "source": [
    "## Template to start building a more inteactive script using dropdown menus"
   ]
  },
  {
   "cell_type": "code",
   "execution_count": 14,
   "id": "126ac097",
   "metadata": {
    "scrolled": false,
    "slideshow": {
     "slide_type": "slide"
    }
   },
   "outputs": [
    {
     "data": {
      "text/html": [
       "\n",
       "        <iframe\n",
       "            width=\"100%\"\n",
       "            height=\"650\"\n",
       "            src=\"http://127.0.0.1:8052/\"\n",
       "            frameborder=\"0\"\n",
       "            allowfullscreen\n",
       "            \n",
       "        ></iframe>\n",
       "        "
      ],
      "text/plain": [
       "<IPython.lib.display.IFrame at 0x7f515e064d30>"
      ]
     },
     "metadata": {},
     "output_type": "display_data"
    },
    {
     "name": "stdout",
     "output_type": "stream",
     "text": [
      "Remove: Anthesis time\n",
      "Remove: Maturity time\n",
      "Remove: Heading time\n"
     ]
    }
   ],
   "source": [
    "from jupyter_dash import JupyterDash\n",
    "from dash import Dash, dcc, html, Input, Output\n",
    "import plotly.express as px\n",
    "\n",
    "import dash_bootstrap_components as dbc          \n",
    "from dash.exceptions import PreventUpdate        \n",
    "\n",
    "#################################################\n",
    "import json\n",
    "import nbimporter\n",
    "from src.grass_plots import get_all_fieldtrials     \n",
    "from src.grass_plots import get_plot\n",
    "from src.grass_plots import dict_phenotypes\n",
    "from src.grass_plots import numpy_data\n",
    "from src.grass_plots import treatments\n",
    "from src.grass_plots import plotly_plot\n",
    "import operator                                   \n",
    "import numpy as np                               \n",
    "import requests \n",
    "#################################################\n",
    "\n",
    "\n",
    "all_studies  = get_all_fieldtrials()\n",
    "all_studies = json.loads(all_studies)\n",
    "\n",
    "studiesIDs = []\n",
    "names      = []\n",
    "for i in range(len(all_studies['results'][0]['results'])):\n",
    "        uuid  = all_studies['results'][0]['results'][i]['data']['_id']['$oid']\n",
    "        name = all_studies['results'][0]['results'][i]['data']['so:name']\n",
    "\n",
    "        if 'phenotypes' in all_studies['results'][0]['results'][i]['data']:\n",
    "            studiesIDs.append(uuid)\n",
    "            names.append(name)\n",
    "\n",
    "studiesIDs.remove('5dd8009ade68e75a927a8274')                #  faulty study. remove it from list for now\n",
    "names.remove('1st vs 3rd wheat take-all resistance trial')   #\n",
    "\n",
    "\n",
    "optionsNames = [{'label': names[i], 'value':studiesIDs[i]} for i in range(len(names))]\n",
    "\n",
    "optionsNames.sort(key=operator.itemgetter('label'))         # Sort list of dictionaries by key 'label'\n",
    "\n",
    "           \n",
    "#app = Dash(__name__)\n",
    "app = JupyterDash(__name__)  \n",
    "\n",
    "\n",
    "app.layout = html.Div([\n",
    "\n",
    "      html.Div(children=[\n",
    "      html.Label(['List of studies:'],style={'font-weight': 'bold', \"text-align\": \"left\"}),\n",
    "\n",
    "      dcc.Dropdown(id='DROPDOWN1',\n",
    "          options = optionsNames,\n",
    "          value   = optionsNames[0]['value'],\n",
    "          searchable = True,\n",
    "          style={'width':\"100%\"},\n",
    "          #search_value='',\n",
    "      ),\n",
    "      html.Div(id='STUDY'),\n",
    "      html.Br(),\n",
    "\n",
    "    ]),\n",
    "    \n",
    "    html.Div(children=[\n",
    "        html.Label(['Select phenotype:'],style={'font-weight': 'bold', \"text-align\": \"left\"}),\n",
    "        \n",
    "        dcc.Dropdown( id='DROPDOWN2',\n",
    "              options = [],\n",
    "              #value   = 'SpkPop_CalcGbSamp_m2', \n",
    "              searchable = True,\n",
    "              style={'width':\"100%\"},\n",
    "          )\n",
    "    \n",
    "    ]),\n",
    "\n",
    "])\n",
    "#-------------------------------------------------\n",
    "@app.callback(\n",
    "    Output('STUDY', 'children'),\n",
    "    Input('DROPDOWN1', 'value')\n",
    ")\n",
    "\n",
    "def print_uuid(uuid):\n",
    "\n",
    "    if uuid is None:\n",
    "        raise PreventUpdate\n",
    "\n",
    "    return ('Study uuid: {} '.format(uuid))\n",
    "\n",
    "### **update dropdown 2 (List of phenotypes)** \n",
    "@app.callback(\n",
    "    [Output('DROPDOWN2', 'options'),\n",
    "     Output('DROPDOWN2', 'value') ],\n",
    "     Input( 'DROPDOWN1', 'value') )\n",
    "\n",
    "def update_dropdown_menu(uuid):\n",
    "\n",
    "    if uuid is None:\n",
    "        raise PreventUpdate\n",
    "\n",
    "    single_study = get_plot(uuid)\n",
    "    study_json   = json.loads(single_study)\n",
    "\n",
    "    studies_ids =[]\n",
    "\n",
    "    if 'phenotypes' in study_json['results'][0]['results'][0]['data']:\n",
    "        studies_ids.append(uuid)\n",
    "        #print(\"Study has phenotypes\", studies_ids)\n",
    "\n",
    "\n",
    "    plot_data         = study_json['results'][0]['results'][0]['data']['plots']\n",
    "    phenotypes        = study_json['results'][0]['results'][0]['data']['phenotypes']\n",
    "\n",
    "    dictTraits = dict_phenotypes(phenotypes, plot_data)\n",
    "\n",
    "    phenoKeys   = list(dictTraits.keys())\n",
    "    phenoValues = list(dictTraits.values())\n",
    "\n",
    "    options = [{'label': phenoValues[i], 'value':phenoKeys[i]} for i in range(len(phenoKeys))]\n",
    "\n",
    "    value   = list(dictTraits.keys())[0]\n",
    "    return options, value\n",
    "\n",
    "\n",
    "\n",
    "if __name__ == \"__main__\":\n",
    "    app.run_server(mode='inline', port=8052)\n",
    "    "
   ]
  },
  {
   "cell_type": "code",
   "execution_count": null,
   "id": "2406f2c2",
   "metadata": {},
   "outputs": [],
   "source": []
  }
 ],
 "metadata": {
  "kernelspec": {
   "display_name": "Python 3 (ipykernel)",
   "language": "python",
   "name": "python3"
  },
  "language_info": {
   "codemirror_mode": {
    "name": "ipython",
    "version": 3
   },
   "file_extension": ".py",
   "mimetype": "text/x-python",
   "name": "python",
   "nbconvert_exporter": "python",
   "pygments_lexer": "ipython3",
   "version": "3.8.10"
  }
 },
 "nbformat": 4,
 "nbformat_minor": 5
}
